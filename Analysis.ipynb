{
 "cells": [
  {
   "cell_type": "code",
   "execution_count": 4,
   "id": "beginning-development",
   "metadata": {},
   "outputs": [],
   "source": [
    "from RCN import RCN_binomial"
   ]
  },
  {
   "cell_type": "code",
   "execution_count": 3,
   "id": "conscious-marble",
   "metadata": {},
   "outputs": [
    {
     "ename": "TypeError",
     "evalue": "__init__() missing 9 required positional arguments: 'interest_rate', 'period_length', 'initial_price', 'dividend_yield', 'up_factor', 'down_factor', 'payment_dates', 'annualized_coupon', and 'exercise_price'",
     "output_type": "error",
     "traceback": [
      "\u001b[1;31m---------------------------------------------------------------------------\u001b[0m",
      "\u001b[1;31mTypeError\u001b[0m                                 Traceback (most recent call last)",
      "\u001b[1;32m<ipython-input-3-17f62390ba4c>\u001b[0m in \u001b[0;36m<module>\u001b[1;34m\u001b[0m\n\u001b[1;32m----> 1\u001b[1;33m \u001b[0mx\u001b[0m \u001b[1;33m=\u001b[0m \u001b[0mRCN\u001b[0m\u001b[1;33m.\u001b[0m\u001b[0mRCN_binomial\u001b[0m\u001b[1;33m(\u001b[0m\u001b[1;33m)\u001b[0m\u001b[1;33m\u001b[0m\u001b[1;33m\u001b[0m\u001b[0m\n\u001b[0m",
      "\u001b[1;31mTypeError\u001b[0m: __init__() missing 9 required positional arguments: 'interest_rate', 'period_length', 'initial_price', 'dividend_yield', 'up_factor', 'down_factor', 'payment_dates', 'annualized_coupon', and 'exercise_price'"
     ]
    }
   ],
   "source": [
    "RCN_binomial()"
   ]
  }
 ],
 "metadata": {
  "kernelspec": {
   "display_name": "Python 3",
   "language": "python",
   "name": "python3"
  },
  "language_info": {
   "codemirror_mode": {
    "name": "ipython",
    "version": 3
   },
   "file_extension": ".py",
   "mimetype": "text/x-python",
   "name": "python",
   "nbconvert_exporter": "python",
   "pygments_lexer": "ipython3",
   "version": "3.8.8"
  }
 },
 "nbformat": 4,
 "nbformat_minor": 5
}
