{
 "cells": [
  {
   "cell_type": "code",
   "execution_count": 1,
   "metadata": {},
   "outputs": [
    {
     "name": "stdout",
     "output_type": "stream",
     "text": [
      "Optimization terminated successfully.\n",
      "         Current function value: 276716875.498745\n",
      "         Iterations: 36\n",
      "         Function evaluations: 72\n",
      "[0.9987627]\n"
     ]
    }
   ],
   "source": [
    "#we find U, D for our calls\n",
    "\n",
    "import pandas as pd\n",
    "import numpy as np\n",
    "from scipy.optimize import fmin\n",
    "import math\n",
    "\n",
    "\n",
    "#factorial function\n",
    "def factorial(m):\n",
    "    if m==0:\n",
    "        return 1\n",
    "    else:\n",
    "        return m*factorial(m-1)\n",
    "\n",
    "n = 12\n",
    "S_0 = 11118\n",
    "r = -0.0078\n",
    "delta = 0.028  \n",
    "q = 0.5\n",
    "    \n",
    "calls = pd.read_excel(r'/Users/jakastrmcnik/Desktop/Derivatives_4.2..xlsx')\n",
    "calls1 = pd.DataFrame(calls)\n",
    "\n",
    "call_prices = [x for x in calls1[\"Call\"]]\n",
    "#some issues with the strikes column, so just inserted it by hand\n",
    "call_strikes = [12000, 11800, 11699, 11400, 11200, 11000, 10800, 10600, 10400, 10200, 10000, 9800, 9600, 9400, 9200, 9000]\n",
    "\n",
    "#This is our function of D = x[0]\n",
    "def f(x):\n",
    "    k = 0\n",
    "    suma = 0\n",
    "    for j in range(0,16):\n",
    "        for i in range(0,n+1):\n",
    "            k += math.pow(math.e, -r)*math.pow(0.5, n)*factorial(n)/(factorial(i)*factorial(n-i))*max(S_0*math.pow((math.pow(math.e,(r-delta)/12) + x[0]*(q - math.pow(math.e,(r-delta)/12)))/q,(n-i))*math.pow(x[0],i) - call_strikes[j],0)\n",
    "        suma += math.pow((k - call_prices[j]),2)\n",
    "    return suma\n",
    "\n",
    "print(fmin(f,np.array([0.9]))) #produces the following U and D\n",
    "\n",
    "D = 0.9987627\n",
    "U = (math.pow(math.e,(r-delta)/12) + D*(q - math.pow(math.e,(r-delta)/12)))/q\n"
   ]
  },
  {
   "cell_type": "code",
   "execution_count": 2,
   "metadata": {},
   "outputs": [],
   "source": [
    "#now it is time to find out if the corresponding binomial model is consistent with the actual prices\n",
    "\n",
    "def binomial(U, D, K, n, S_0):\n",
    "    q = 0.5\n",
    "    cache = {}\n",
    "    def bin_mem(m, k):\n",
    "        if (m,k) in cache.keys():\n",
    "            #print(cache[(m,k)])\n",
    "            return cache[(m,k)]\n",
    "        elif m == n:\n",
    "            cache[(m,k)] = max(S_0*(math.pow((U - np.exp(-delta/n)), k))*(math.pow((D - np.exp(-delta/n)), n-k))-K,0)#max(S_0*math.pow(U,k)*math.pow(D,(m-k)) - K,0)\n",
    "            #print(cache[(m,k)])\n",
    "            return cache[(m,k)]\n",
    "        else: \n",
    "            cache[(m,k)] = math.pow(math.e, -r/n)*q*(bin_mem(m+1, k+1) + bin_mem(m+1, k))\n",
    "            #print(cache[(m,k)])\n",
    "            return cache[(m,k)]\n",
    "    return bin_mem(0,0)       \n",
    "\n",
    "        "
   ]
  },
  {
   "cell_type": "code",
   "execution_count": null,
   "metadata": {},
   "outputs": [],
   "source": []
  }
 ],
 "metadata": {
  "kernelspec": {
   "display_name": "Python 3",
   "language": "python",
   "name": "python3"
  },
  "language_info": {
   "codemirror_mode": {
    "name": "ipython",
    "version": 3
   },
   "file_extension": ".py",
   "mimetype": "text/x-python",
   "name": "python",
   "nbconvert_exporter": "python",
   "pygments_lexer": "ipython3",
   "version": "3.8.5"
  }
 },
 "nbformat": 4,
 "nbformat_minor": 4
}
