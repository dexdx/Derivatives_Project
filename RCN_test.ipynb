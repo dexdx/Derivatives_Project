{
 "cells": [
  {
   "cell_type": "code",
   "execution_count": 57,
   "id": "japanese-filing",
   "metadata": {},
   "outputs": [],
   "source": [
    "from RCN import *"
   ]
  },
  {
   "cell_type": "code",
   "execution_count": 58,
   "id": "designing-vienna",
   "metadata": {
    "scrolled": true
   },
   "outputs": [
    {
     "ename": "AttributeError",
     "evalue": "'RCN_binomial' object has no attribute 'barrier'",
     "output_type": "error",
     "traceback": [
      "\u001b[1;31m---------------------------------------------------------------------------\u001b[0m",
      "\u001b[1;31mAttributeError\u001b[0m                            Traceback (most recent call last)",
      "\u001b[1;32m<ipython-input-58-2e9e9a5022ec>\u001b[0m in \u001b[0;36m<module>\u001b[1;34m\u001b[0m\n\u001b[0;32m      1\u001b[0m \u001b[1;31m# simple example\u001b[0m\u001b[1;33m\u001b[0m\u001b[1;33m\u001b[0m\u001b[1;33m\u001b[0m\u001b[0m\n\u001b[1;32m----> 2\u001b[1;33m rcn_simple = RCN_binomial(interest_rate=.01, period_length=1, initial_price=10, dividend_yield=0, up_factor=2, down_factor=1/2,\n\u001b[0m\u001b[0;32m      3\u001b[0m             payment_dates=[1,2,3], annualized_coupon=0.05, exercise_price=1, Simple=True, Callable=False, barrier_level=None)\n",
      "\u001b[1;32m~\\Documents\\EPFL\\FIN-404\\Project_1\\RCN.py\u001b[0m in \u001b[0;36m__init__\u001b[1;34m(self, interest_rate, period_length, initial_price, dividend_yield, up_factor, down_factor, payment_dates, annualized_coupon, exercise_price, Simple, Callable, barrier_level)\u001b[0m\n\u001b[0;32m     23\u001b[0m         \u001b[0mself\u001b[0m\u001b[1;33m.\u001b[0m\u001b[0mc\u001b[0m \u001b[1;33m=\u001b[0m \u001b[0mannualized_coupon\u001b[0m\u001b[1;33m\u001b[0m\u001b[1;33m\u001b[0m\u001b[0m\n\u001b[0;32m     24\u001b[0m         \u001b[0mself\u001b[0m\u001b[1;33m.\u001b[0m\u001b[0malpha\u001b[0m \u001b[1;33m=\u001b[0m \u001b[0mexercise_price\u001b[0m\u001b[1;33m\u001b[0m\u001b[1;33m\u001b[0m\u001b[0m\n\u001b[1;32m---> 25\u001b[1;33m         \u001b[0mself\u001b[0m\u001b[1;33m.\u001b[0m\u001b[0mbeta\u001b[0m \u001b[1;33m=\u001b[0m \u001b[0mbarrier_level\u001b[0m\u001b[1;33m\u001b[0m\u001b[1;33m\u001b[0m\u001b[0m\n\u001b[0m\u001b[0;32m     26\u001b[0m         \u001b[0mself\u001b[0m\u001b[1;33m.\u001b[0m\u001b[0mbarrier\u001b[0m \u001b[1;33m=\u001b[0m \u001b[1;32mNone\u001b[0m\u001b[1;33m\u001b[0m\u001b[1;33m\u001b[0m\u001b[0m\n\u001b[0;32m     27\u001b[0m \u001b[1;33m\u001b[0m\u001b[0m\n",
      "\u001b[1;31mAttributeError\u001b[0m: 'RCN_binomial' object has no attribute 'barrier'"
     ]
    }
   ],
   "source": [
    "# simple example\n",
    "rcn_simple = RCN_binomial(interest_rate=.01, period_length=1, initial_price=10, dividend_yield=0, up_factor=2, down_factor=1/2,\n",
    "            payment_dates=[1,2,3], annualized_coupon=0.05, exercise_price=1, Simple=True, Callable=False, barrier_level=None)"
   ]
  },
  {
   "cell_type": "code",
   "execution_count": 23,
   "id": "average-packing",
   "metadata": {
    "scrolled": true
   },
   "outputs": [
    {
     "data": {
      "text/plain": [
       "array([0.  , 0.  , 5.  , 8.75])"
      ]
     },
     "execution_count": 23,
     "metadata": {},
     "output_type": "execute_result"
    }
   ],
   "source": [
    "rcn_simple.terminal_payoffs()"
   ]
  },
  {
   "cell_type": "code",
   "execution_count": 24,
   "id": "disciplinary-cowboy",
   "metadata": {
    "scrolled": true
   },
   "outputs": [
    {
     "data": {
      "text/plain": [
       "4.596768514400439"
      ]
     },
     "execution_count": 24,
     "metadata": {},
     "output_type": "execute_result"
    }
   ],
   "source": [
    "rcn_simple.price_option()"
   ]
  },
  {
   "cell_type": "code",
   "execution_count": 44,
   "id": "endangered-hospital",
   "metadata": {
    "scrolled": true
   },
   "outputs": [
    {
     "data": {
      "text/plain": [
       "0.6578033841386858"
      ]
     },
     "execution_count": 44,
     "metadata": {},
     "output_type": "execute_result"
    }
   ],
   "source": [
    "rcn_simple.price_RCN()"
   ]
  },
  {
   "cell_type": "code",
   "execution_count": 38,
   "id": "adjacent-shooting",
   "metadata": {},
   "outputs": [],
   "source": [
    "rcn_barrier = RCN_binomial(interest_rate=.01, period_length=1, initial_price=10, dividend_yield=0, up_factor=2, down_factor=1/2,\n",
    "                 payment_dates=[1,2,3], annualized_coupon=0.05, exercise_price=1, Simple=False, Callable=False, barrier_level=.1)"
   ]
  },
  {
   "cell_type": "code",
   "execution_count": 39,
   "id": "naval-thesaurus",
   "metadata": {},
   "outputs": [],
   "source": [
    "rcn_barrier.set_barrier()"
   ]
  },
  {
   "cell_type": "code",
   "execution_count": 41,
   "id": "preliminary-angola",
   "metadata": {
    "scrolled": false
   },
   "outputs": [
    {
     "data": {
      "text/plain": [
       "array([0., 0., 0., 0., 0., 0., 0., 0.])"
      ]
     },
     "execution_count": 41,
     "metadata": {},
     "output_type": "execute_result"
    }
   ],
   "source": [
    "rcn_barrier.terminal_payoffs()"
   ]
  },
  {
   "cell_type": "code",
   "execution_count": 42,
   "id": "unusual-clearing",
   "metadata": {},
   "outputs": [
    {
     "data": {
      "text/plain": [
       "1.1174802355787297"
      ]
     },
     "execution_count": 42,
     "metadata": {},
     "output_type": "execute_result"
    }
   ],
   "source": [
    "rcn_barrier.price_RCN()"
   ]
  }
 ],
 "metadata": {
  "kernelspec": {
   "display_name": "Python 3",
   "language": "python",
   "name": "python3"
  },
  "language_info": {
   "codemirror_mode": {
    "name": "ipython",
    "version": 3
   },
   "file_extension": ".py",
   "mimetype": "text/x-python",
   "name": "python",
   "nbconvert_exporter": "python",
   "pygments_lexer": "ipython3",
   "version": "3.8.8"
  }
 },
 "nbformat": 4,
 "nbformat_minor": 5
}
