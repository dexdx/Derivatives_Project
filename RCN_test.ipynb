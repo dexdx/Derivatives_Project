{
 "cells": [
  {
   "cell_type": "code",
   "execution_count": 47,
   "id": "japanese-filing",
   "metadata": {},
   "outputs": [],
   "source": [
    "from RCN import RCN_binomial"
   ]
  },
  {
   "cell_type": "code",
   "execution_count": 48,
   "id": "designing-vienna",
   "metadata": {
    "scrolled": true
   },
   "outputs": [
    {
     "ename": "TypeError",
     "evalue": "unsupported operand type(s) for *: 'NoneType' and 'int'",
     "output_type": "error",
     "traceback": [
      "\u001b[1;31m---------------------------------------------------------------------------\u001b[0m",
      "\u001b[1;31mTypeError\u001b[0m                                 Traceback (most recent call last)",
      "\u001b[1;32m<ipython-input-48-fe2a109f7d64>\u001b[0m in \u001b[0;36m<module>\u001b[1;34m\u001b[0m\n\u001b[0;32m      1\u001b[0m \u001b[1;31m# simple example\u001b[0m\u001b[1;33m\u001b[0m\u001b[1;33m\u001b[0m\u001b[1;33m\u001b[0m\u001b[0m\n\u001b[1;32m----> 2\u001b[1;33m rcn_simple = RCN_binomial(interest_rate=.01, period_length=1, initial_price=10, dividend_yield=0, up_factor=2, down_factor=1/2,\n\u001b[0m\u001b[0;32m      3\u001b[0m                  payment_dates=[1,2,3], annualized_coupon=0.05, exercise_price=1, Simple=True, Callable=False, barrier_level=None)\n",
      "\u001b[1;32m~\\Documents\\EPFL\\FIN-404\\Project_1\\RCN.py\u001b[0m in \u001b[0;36m__init__\u001b[1;34m(self, interest_rate, period_length, initial_price, dividend_yield, up_factor, down_factor, payment_dates, annualized_coupon, exercise_price, Simple, Callable, barrier_level)\u001b[0m\n\u001b[0;32m     24\u001b[0m         \u001b[0mself\u001b[0m\u001b[1;33m.\u001b[0m\u001b[0mbeta\u001b[0m \u001b[1;33m=\u001b[0m \u001b[0mbarrier_level\u001b[0m\u001b[1;33m\u001b[0m\u001b[1;33m\u001b[0m\u001b[0m\n\u001b[0;32m     25\u001b[0m \u001b[1;33m\u001b[0m\u001b[0m\n\u001b[1;32m---> 26\u001b[1;33m         \u001b[1;32mif\u001b[0m \u001b[0mself\u001b[0m\u001b[1;33m.\u001b[0m\u001b[0mbeta\u001b[0m \u001b[1;32mis\u001b[0m \u001b[1;32mnot\u001b[0m \u001b[1;32mNone\u001b[0m\u001b[1;33m:\u001b[0m\u001b[1;33m\u001b[0m\u001b[1;33m\u001b[0m\u001b[0m\n\u001b[0m\u001b[0;32m     27\u001b[0m             \u001b[0mself\u001b[0m\u001b[1;33m.\u001b[0m\u001b[0mbarrier\u001b[0m \u001b[1;33m=\u001b[0m \u001b[0mself\u001b[0m\u001b[1;33m.\u001b[0m\u001b[0mbeta\u001b[0m\u001b[1;33m*\u001b[0m\u001b[0mself\u001b[0m\u001b[1;33m.\u001b[0m\u001b[0mi0\u001b[0m\u001b[1;33m\u001b[0m\u001b[1;33m\u001b[0m\u001b[0m\n\u001b[0;32m     28\u001b[0m \u001b[1;33m\u001b[0m\u001b[0m\n",
      "\u001b[1;31mTypeError\u001b[0m: unsupported operand type(s) for *: 'NoneType' and 'int'"
     ]
    }
   ],
   "source": [
    "# simple example\n",
    "rcn_simple = RCN_binomial(interest_rate=.01, period_length=1, initial_price=10, dividend_yield=0, up_factor=2, down_factor=1/2,\n",
    "                 payment_dates=[1,2,3], annualized_coupon=0.05, exercise_price=1, Simple=True, Callable=False, barrier_level=None)"
   ]
  },
  {
   "cell_type": "code",
   "execution_count": 4,
   "id": "average-packing",
   "metadata": {
    "scrolled": true
   },
   "outputs": [
    {
     "data": {
      "text/plain": [
       "array([0.  , 0.  , 5.  , 8.75])"
      ]
     },
     "execution_count": 4,
     "metadata": {},
     "output_type": "execute_result"
    }
   ],
   "source": [
    "rcn_simple.terminal_payoffs()"
   ]
  },
  {
   "cell_type": "code",
   "execution_count": 34,
   "id": "disciplinary-cowboy",
   "metadata": {
    "scrolled": true
   },
   "outputs": [
    {
     "data": {
      "text/plain": [
       "4.596768514400439"
      ]
     },
     "execution_count": 34,
     "metadata": {},
     "output_type": "execute_result"
    }
   ],
   "source": [
    "rcn_simple.price_option()"
   ]
  },
  {
   "cell_type": "code",
   "execution_count": 33,
   "id": "endangered-hospital",
   "metadata": {
    "scrolled": true
   },
   "outputs": [
    {
     "data": {
      "text/plain": [
       "0.6578033841386858"
      ]
     },
     "execution_count": 33,
     "metadata": {},
     "output_type": "execute_result"
    }
   ],
   "source": [
    "rcn_simple.price_RCN()"
   ]
  },
  {
   "cell_type": "code",
   "execution_count": 46,
   "id": "adjacent-shooting",
   "metadata": {},
   "outputs": [],
   "source": [
    "rcn_barrier = RCN_binomial(interest_rate=.01, period_length=1, initial_price=10, dividend_yield=0, up_factor=2, down_factor=1/2,\n",
    "                 payment_dates=[1,2,3], annualized_coupon=0.05, exercise_price=1, Simple=False, Callable=False, barrier_level=1)"
   ]
  },
  {
   "cell_type": "code",
   "execution_count": 41,
   "id": "preliminary-angola",
   "metadata": {
    "scrolled": false
   },
   "outputs": [
    {
     "data": {
      "text/plain": [
       "array([0.  , 0.  , 0.  , 5.  , 0.  , 5.  , 5.  , 8.75])"
      ]
     },
     "execution_count": 41,
     "metadata": {},
     "output_type": "execute_result"
    }
   ],
   "source": [
    "rcn_barrier.terminal_payoffs()"
   ]
  },
  {
   "cell_type": "code",
   "execution_count": 42,
   "id": "unusual-clearing",
   "metadata": {},
   "outputs": [
    {
     "data": {
      "text/plain": [
       "4.596768514400439"
      ]
     },
     "execution_count": 42,
     "metadata": {},
     "output_type": "execute_result"
    }
   ],
   "source": [
    "rcn_barrier.price_option()"
   ]
  }
 ],
 "metadata": {
  "kernelspec": {
   "display_name": "Python 3",
   "language": "python",
   "name": "python3"
  },
  "language_info": {
   "codemirror_mode": {
    "name": "ipython",
    "version": 3
   },
   "file_extension": ".py",
   "mimetype": "text/x-python",
   "name": "python",
   "nbconvert_exporter": "python",
   "pygments_lexer": "ipython3",
   "version": "3.8.8"
  }
 },
 "nbformat": 4,
 "nbformat_minor": 5
}
