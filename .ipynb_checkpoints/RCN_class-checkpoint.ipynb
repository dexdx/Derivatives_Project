{
 "cells": [
  {
   "cell_type": "code",
   "execution_count": 5,
   "id": "japanese-filing",
   "metadata": {},
   "outputs": [],
   "source": [
    "import numpy as np"
   ]
  },
  {
   "cell_type": "code",
   "execution_count": 47,
   "id": "dated-package",
   "metadata": {},
   "outputs": [],
   "source": [
    "class RCN_binomial:\n",
    "    def __init__(self, interest_rate, period_length, initial_price, dividend_yield, up_factor, down_factor,\n",
    "                 payment_dates, annualized_coupon, exercise_price, Simple=True, Callable=False, barrier_level=None):\n",
    "        # binomial model parameters\n",
    "        self.r = interest_rate\n",
    "        self.Delta = period_length\n",
    "        self.i0 = initial_price\n",
    "        self.delta = dividend_yield\n",
    "        self.U = up_factor\n",
    "        self.D = down_factor\n",
    "        \n",
    "        self.gamma = np.exp(-self.r*self.Delta)\n",
    "        self.q = (1/self.gamma - self.D)/(self.U - self.D)\n",
    "        \n",
    "        # RCN characteristics\n",
    "        self.simple = Simple\n",
    "        self.callable = Callable\n",
    "        self.T = payment_dates[len(payment_dates)-1]\n",
    "        self.c = annualized_coupon\n",
    "        self.alpha = exercise_price\n",
    "        self.beta = barrier_level\n",
    "    \n",
    "    def terminal_payoffs(self):\n",
    "        # with Markov property\n",
    "        t = np.arange(1, self.T+1, 1)\n",
    "        P = np.zeros((self.T+1, self.T+1))\n",
    "        P[0,0] = self.i0\n",
    "        div = 1\n",
    "        if self.delta == 0:\n",
    "            div = 0\n",
    "        for j in t:\n",
    "            for i in range(j+1):\n",
    "                if i == 0:\n",
    "                    P[i,j] = P[i,j-1] * (self.U - div*np.exp(-self.delta*self.Delta))\n",
    "                else:\n",
    "                    P[i,j] = P[i-1,j-1] * (self.D - div*np.exp(-self.delta*self.Delta))\n",
    "        H = np.maximum(P[:,self.T] - self.alpha*self.i0, 0)\n",
    "        return H\n",
    "    \n",
    "    def price_option(self, put=True):\n",
    "        if self.q <= 0 or self.q >= 1:\n",
    "            return\n",
    "        else:\n",
    "            # with Markov propoerty\n",
    "            t = np.arange(self.T-1,-1,-1)\n",
    "            P = np.zeros((self.T+1, self.T+1))\n",
    "            P[:,self.T] = self.terminal_payoffs()\n",
    "            for j in t:\n",
    "                for i in range(j+1):\n",
    "                    P[i,j] = self.gamma*( self.q*P[i, j+1] + (1-self.q)*P[i+1, j+1] )\n",
    "            return P[0,0]"
   ]
  },
  {
   "cell_type": "code",
   "execution_count": 48,
   "id": "designing-vienna",
   "metadata": {
    "scrolled": true
   },
   "outputs": [],
   "source": [
    "rcn_b = RCN_binomial(interest_rate=0, period_length=1, initial_price=10, dividend_yield=0, up_factor=2, down_factor=1/2,\n",
    "                 payment_dates=[1,2,3], annualized_coupon=0, exercise_price=1, Simple=True, Callable=False, barrier_level=None)"
   ]
  },
  {
   "cell_type": "code",
   "execution_count": 49,
   "id": "average-packing",
   "metadata": {
    "scrolled": true
   },
   "outputs": [
    {
     "data": {
      "text/plain": [
       "array([70., 10.,  0.,  0.])"
      ]
     },
     "execution_count": 49,
     "metadata": {},
     "output_type": "execute_result"
    }
   ],
   "source": [
    "rcn_b.terminal_payoffs()"
   ]
  },
  {
   "cell_type": "code",
   "execution_count": 50,
   "id": "distinct-kentucky",
   "metadata": {},
   "outputs": [
    {
     "data": {
      "text/plain": [
       "4.814814814814814"
      ]
     },
     "execution_count": 50,
     "metadata": {},
     "output_type": "execute_result"
    }
   ],
   "source": [
    "rcn_b.price_option()"
   ]
  }
 ],
 "metadata": {
  "kernelspec": {
   "display_name": "Python 3",
   "language": "python",
   "name": "python3"
  },
  "language_info": {
   "codemirror_mode": {
    "name": "ipython",
    "version": 3
   },
   "file_extension": ".py",
   "mimetype": "text/x-python",
   "name": "python",
   "nbconvert_exporter": "python",
   "pygments_lexer": "ipython3",
   "version": "3.8.8"
  }
 },
 "nbformat": 4,
 "nbformat_minor": 5
}
