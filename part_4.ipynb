{
 "cells": [
  {
   "cell_type": "code",
   "execution_count": 1,
   "id": "promotional-remedy",
   "metadata": {},
   "outputs": [],
   "source": [
    "from RCN import *\n",
    "from calibrate_option import *\n",
    "import matplotlib.pyplot as plt\n",
    "from sklearn.linear_model import LinearRegression"
   ]
  },
  {
   "cell_type": "code",
   "execution_count": 2,
   "id": "optimum-aquatic",
   "metadata": {},
   "outputs": [],
   "source": [
    "table = np.loadtxt('Data-Project1-Fin404.txt', skiprows=1)"
   ]
  },
  {
   "cell_type": "code",
   "execution_count": 3,
   "id": "olive-speech",
   "metadata": {},
   "outputs": [],
   "source": [
    "strikes = table[:,0]\n",
    "call_prices = table[:,1]\n",
    "put_prices = table[:,2]"
   ]
  },
  {
   "cell_type": "code",
   "execution_count": 4,
   "id": "imposed-essay",
   "metadata": {},
   "outputs": [
    {
     "data": {
      "text/plain": [
       "0.9999999999925049"
      ]
     },
     "execution_count": 4,
     "metadata": {},
     "output_type": "execute_result"
    }
   ],
   "source": [
    "y = call_prices - put_prices\n",
    "x = strikes\n",
    "y = np.array(y).reshape((-1,1))\n",
    "x = np.array(x).reshape((-1,1))\n",
    "lm = LinearRegression().fit(x,y)\n",
    "lm.score(x,y)\n",
    "# put-call parity holds"
   ]
  },
  {
   "cell_type": "code",
   "execution_count": 5,
   "id": "christian-darwin",
   "metadata": {},
   "outputs": [],
   "source": [
    "alpha = lm.intercept_.item()\n",
    "beta = lm.coef_.item()"
   ]
  },
  {
   "cell_type": "code",
   "execution_count": 6,
   "id": "opened-purse",
   "metadata": {},
   "outputs": [],
   "source": [
    "r = -np.log(-beta).item()\n",
    "Delta = 1/12\n",
    "S_0 = 11118\n",
    "delta = (1-alpha/S_0)/np.exp(-r).item()\n",
    "q = 1/2\n",
    "T = 12"
   ]
  },
  {
   "cell_type": "code",
   "execution_count": 7,
   "id": "overall-favor",
   "metadata": {},
   "outputs": [],
   "source": [
    "U_min = 1\n",
    "U_max = np.exp(Delta*r)/q\n",
    "Us = np.arange(U_min, U_max, .0001)"
   ]
  },
  {
   "cell_type": "code",
   "execution_count": 8,
   "id": "awful-mumbai",
   "metadata": {},
   "outputs": [],
   "source": [
    "error_U = []\n",
    "for U in Us:\n",
    "    call_prices_U = []\n",
    "    for s in range(len(strikes)):\n",
    "        call = calibrate_option(r, Delta, S_0, delta, U, q, T, strikes[s])\n",
    "        call_prices_U.append(call.price_option(put=False))\n",
    "    error = ((np.array(call_prices_U) - call_prices)**2).sum()\n",
    "    error_U.append(error)"
   ]
  },
  {
   "cell_type": "code",
   "execution_count": 10,
   "id": "continued-active",
   "metadata": {
    "scrolled": true
   },
   "outputs": [
    {
     "data": {
      "image/png": "[encoded data removed]",
      "text/plain": [
       "<Figure size 432x288 with 1 Axes>"
      ]
     },
     "metadata": {
      "needs_background": "light"
     },
     "output_type": "display_data"
    }
   ],
   "source": [
    "tick_loc = list(range(0,len(Us),1000))\n",
    "tick_lab = [round(Us[i],2) for i in tick_loc]\n",
    "fig, ax = plt.subplots()\n",
    "ax.plot(error_U)\n",
    "ax.set_xticks(tick_loc)\n",
    "ax.set_xticklabels(tick_lab);\n",
    "plt.xlabel('U factor')\n",
    "plt.ylabel('SSR over different strikes');"
   ]
  },
  {
   "cell_type": "code",
   "execution_count": 11,
   "id": "stupid-boating",
   "metadata": {},
   "outputs": [],
   "source": [
    "min_idx = np.argsort(error_U)[0]"
   ]
  },
  {
   "cell_type": "code",
   "execution_count": 12,
   "id": "spare-rocket",
   "metadata": {},
   "outputs": [],
   "source": [
    "U_optimal = Us[min_idx]\n",
    "D_optimal = (np.exp(Delta*r) - q*U_optimal)/(1-q)"
   ]
  },
  {
   "cell_type": "code",
   "execution_count": 13,
   "id": "outer-division",
   "metadata": {
    "scrolled": true
   },
   "outputs": [
    {
     "name": "stdout",
     "output_type": "stream",
     "text": [
      "Calibrated U: 1.05\n",
      "Calibrated D: 0.944\n"
     ]
    }
   ],
   "source": [
    "print('Calibrated U: {:.3}\\nCalibrated D: {:.3}'.format(U_optimal, D_optimal))"
   ]
  },
  {
   "cell_type": "code",
   "execution_count": 17,
   "id": "continent-truth",
   "metadata": {},
   "outputs": [
    {
     "data": {
      "text/plain": [
       "1115.207054765411"
      ]
     },
     "execution_count": 17,
     "metadata": {},
     "output_type": "execute_result"
    }
   ],
   "source": [
    "# Test calibrated model\n",
    "test1 = calibrate_option(r, Delta, S_0, delta, U_optimal, q, T, 10200)\n",
    "test1.price_option(put=False)"
   ]
  },
  {
   "cell_type": "code",
   "execution_count": 15,
   "id": "experimental-advertising",
   "metadata": {},
   "outputs": [],
   "source": [
    "# wheras price of the call in the table for that strike is 1114.862"
   ]
  },
  {
   "cell_type": "code",
   "execution_count": 18,
   "id": "driving-roman",
   "metadata": {},
   "outputs": [
    {
     "name": "stdout",
     "output_type": "stream",
     "text": [
      "Calibrated parameters\n",
      "\n",
      "Interest rate: -0.007801729853464256\n",
      "Dividend yield: 0.02720239796079839\n",
      "Up factor: 1.054699999999994\n",
      "Down factor: 0.9440001342869291\n"
     ]
    }
   ],
   "source": [
    "print('Calibrated parameters\\n\\nInterest rate: {}\\nDividend yield: {}\\nUp factor: {}\\nDown factor: {}'\n",
    "     .format(r, delta, U_optimal, D_optimal))"
   ]
  }
 ],
 "metadata": {
  "kernelspec": {
   "display_name": "Python 3",
   "language": "python",
   "name": "python3"
  },
  "language_info": {
   "codemirror_mode": {
    "name": "ipython",
    "version": 3
   },
   "file_extension": ".py",
   "mimetype": "text/x-python",
   "name": "python",
   "nbconvert_exporter": "python",
   "pygments_lexer": "ipython3",
   "version": "3.8.8"
  }
 },
 "nbformat": 4,
 "nbformat_minor": 5
}
