{
 "cells": [
  {
   "cell_type": "code",
   "execution_count": 30,
   "id": "resistant-springer",
   "metadata": {},
   "outputs": [],
   "source": [
    "from RCN import *\n",
    "from calibrate_option import *\n",
    "import matplotlib.pyplot as plt\n",
    "from sklearn.linear_model import LinearRegression"
   ]
  },
  {
   "cell_type": "code",
   "execution_count": 26,
   "id": "adverse-motorcycle",
   "metadata": {},
   "outputs": [],
   "source": [
    "table = np.loadtxt('Data-Project1-Fin404.txt', skiprows=1)"
   ]
  },
  {
   "cell_type": "code",
   "execution_count": 38,
   "id": "clear-fabric",
   "metadata": {},
   "outputs": [],
   "source": [
    "strikes = table[:,0]\n",
    "call_prices = table[:,1]\n",
    "put_prices = table[:,2]"
   ]
  },
  {
   "cell_type": "code",
   "execution_count": 59,
   "id": "clinical-melissa",
   "metadata": {},
   "outputs": [
    {
     "data": {
      "text/plain": [
       "0.9999999999925049"
      ]
     },
     "execution_count": 59,
     "metadata": {},
     "output_type": "execute_result"
    }
   ],
   "source": [
    "y = call_prices - put_prices\n",
    "x = strikes\n",
    "y = np.array(y).reshape((-1,1))\n",
    "x = np.array(x).reshape((-1,1))\n",
    "lm = LinearRegression().fit(x,y)\n",
    "lm.score(x,y)\n",
    "# put-call parity holds"
   ]
  },
  {
   "cell_type": "code",
   "execution_count": 60,
   "id": "dimensional-synthesis",
   "metadata": {},
   "outputs": [],
   "source": [
    "alpha = lm.intercept_\n",
    "beta = lm.coef_"
   ]
  },
  {
   "cell_type": "code",
   "execution_count": 84,
   "id": "mediterranean-allen",
   "metadata": {},
   "outputs": [],
   "source": [
    "r = -np.log(-beta).item()\n",
    "Delta = 1/12\n",
    "S_0 = 11118\n",
    "delta = -np.log(alpha/S_0).item()\n",
    "q = 1/2\n",
    "T = 12"
   ]
  },
  {
   "cell_type": "code",
   "execution_count": 19,
   "id": "worse-astrology",
   "metadata": {},
   "outputs": [],
   "source": [
    "U_min = 1\n",
    "U_max = np.exp(Delta*r)/q\n",
    "Us = np.arange(U_min, U_max, .0001)"
   ]
  },
  {
   "cell_type": "code",
   "execution_count": 92,
   "id": "built-liver",
   "metadata": {},
   "outputs": [],
   "source": [
    "error_U = []\n",
    "for U in Us:\n",
    "    call_prices_U = []\n",
    "    for s in range(len(strikes)):\n",
    "        call = calibrate_option(r, Delta, S_0, delta, U, q, T, strikes[s])\n",
    "        call_prices_U.append(call.price_option(put=False))\n",
    "    error = ((np.array(call_prices_U) - call_prices)**2).sum()\n",
    "    error_U.append(error)"
   ]
  },
  {
   "cell_type": "code",
   "execution_count": 93,
   "id": "rising-removal",
   "metadata": {
    "scrolled": true
   },
   "outputs": [
    {
     "data": {
      "text/plain": [
       "[<matplotlib.lines.Line2D at 0x150955c9100>]"
      ]
     },
     "execution_count": 93,
     "metadata": {},
     "output_type": "execute_result"
    },
    {
     "data": {
      "image/png": "[encoded data removed]",
      "text/plain": [
       "<Figure size 432x288 with 1 Axes>"
      ]
     },
     "metadata": {
      "needs_background": "light"
     },
     "output_type": "display_data"
    }
   ],
   "source": [
    "plt.plot(error_U)"
   ]
  },
  {
   "cell_type": "code",
   "execution_count": 94,
   "id": "speaking-checkout",
   "metadata": {},
   "outputs": [],
   "source": [
    "min_idx = np.argsort(error_U)[0]"
   ]
  },
  {
   "cell_type": "code",
   "execution_count": 95,
   "id": "radical-committee",
   "metadata": {},
   "outputs": [],
   "source": [
    "U_optimal = Us[min_idx]\n",
    "D_optimal = (np.exp(Delta*r) - q*U_optimal)/(1-q)"
   ]
  },
  {
   "cell_type": "code",
   "execution_count": 96,
   "id": "affecting-property",
   "metadata": {
    "scrolled": true
   },
   "outputs": [
    {
     "name": "stdout",
     "output_type": "stream",
     "text": [
      "Calibrated U: 1.05\n",
      "Calibrated D: 0.944\n"
     ]
    }
   ],
   "source": [
    "print('Calibrated U: {:.3}\\nCalibrated D: {:.3}'.format(U_optimal, D_optimal))"
   ]
  },
  {
   "cell_type": "code",
   "execution_count": 97,
   "id": "mineral-sender",
   "metadata": {},
   "outputs": [
    {
     "data": {
      "text/plain": [
       "1114.8659140204675"
      ]
     },
     "execution_count": 97,
     "metadata": {},
     "output_type": "execute_result"
    }
   ],
   "source": [
    "# Test calibrated model\n",
    "test1 = calibrate_option(r, Delta, S_0, delta, U_optimal, q, T, 10200)\n",
    "test1.price_option(put=False)"
   ]
  },
  {
   "cell_type": "code",
   "execution_count": null,
   "id": "bridal-ozone",
   "metadata": {},
   "outputs": [],
   "source": [
    "# wheras price of the call in the table for that strike is 1114.862"
   ]
  }
 ],
 "metadata": {
  "kernelspec": {
   "display_name": "Python 3",
   "language": "python",
   "name": "python3"
  },
  "language_info": {
   "codemirror_mode": {
    "name": "ipython",
    "version": 3
   },
   "file_extension": ".py",
   "mimetype": "text/x-python",
   "name": "python",
   "nbconvert_exporter": "python",
   "pygments_lexer": "ipython3",
   "version": "3.8.8"
  }
 },
 "nbformat": 4,
 "nbformat_minor": 5
}
