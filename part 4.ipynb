{
 "cells": [
  {
   "cell_type": "code",
   "execution_count": 30,
   "id": "promotional-remedy",
   "metadata": {},
   "outputs": [],
   "source": [
    "from RCN import *\n",
    "from calibrate_option import *\n",
    "import matplotlib.pyplot as plt\n",
    "from sklearn.linear_model import LinearRegression"
   ]
  },
  {
   "cell_type": "code",
   "execution_count": 26,
   "id": "optimum-aquatic",
   "metadata": {},
   "outputs": [],
   "source": [
    "table = np.loadtxt('Data-Project1-Fin404.txt', skiprows=1)"
   ]
  },
  {
   "cell_type": "code",
   "execution_count": 38,
   "id": "olive-speech",
   "metadata": {},
   "outputs": [],
   "source": [
    "strikes = table[:,0]\n",
    "call_prices = table[:,1]\n",
    "put_prices = table[:,2]"
   ]
  },
  {
   "cell_type": "code",
   "execution_count": 59,
   "id": "imposed-essay",
   "metadata": {},
   "outputs": [
    {
     "data": {
      "text/plain": [
       "0.9999999999925049"
      ]
     },
     "execution_count": 59,
     "metadata": {},
     "output_type": "execute_result"
    }
   ],
   "source": [
    "y = call_prices - put_prices\n",
    "x = strikes\n",
    "y = np.array(y).reshape((-1,1))\n",
    "x = np.array(x).reshape((-1,1))\n",
    "lm = LinearRegression().fit(x,y)\n",
    "lm.score(x,y)\n",
    "# put-call parity holds"
   ]
  },
  {
   "cell_type": "code",
   "execution_count": 60,
   "id": "christian-darwin",
   "metadata": {},
   "outputs": [],
   "source": [
    "alpha = lm.intercept_\n",
    "beta = lm.coef_"
   ]
  },
  {
   "cell_type": "code",
   "execution_count": 84,
   "id": "opened-purse",
   "metadata": {},
   "outputs": [],
   "source": [
    "r = -np.log(-beta).item()\n",
    "Delta = 1/12\n",
    "S_0 = 11118\n",
    "delta = -np.log(alpha/S_0).item()\n",
    "q = 1/2\n",
    "T = 12"
   ]
  },
  {
   "cell_type": "code",
   "execution_count": 19,
   "id": "overall-favor",
   "metadata": {},
   "outputs": [],
   "source": [
    "U_min = 1\n",
    "U_max = np.exp(Delta*r)/q\n",
    "Us = np.arange(U_min, U_max, .0001)"
   ]
  },
  {
   "cell_type": "code",
   "execution_count": 92,
   "id": "awful-mumbai",
   "metadata": {},
   "outputs": [],
   "source": [
    "error_U = []\n",
    "for U in Us:\n",
    "    call_prices_U = []\n",
    "    for s in range(len(strikes)):\n",
    "        call = calibrate_option(r, Delta, S_0, delta, U, q, T, strikes[s])\n",
    "        call_prices_U.append(call.price_option(put=False))\n",
    "    error = ((np.array(call_prices_U) - call_prices)**2).sum()\n",
    "    error_U.append(error)"
   ]
  },
  {
   "cell_type": "code",
   "execution_count": 101,
   "id": "authorized-passage",
   "metadata": {},
   "outputs": [
    {
     "data": {
      "text/plain": [
       "9988"
      ]
     },
     "execution_count": 101,
     "metadata": {},
     "output_type": "execute_result"
    }
   ],
   "source": [
    "len(error_U)"
   ]
  },
  {
   "cell_type": "code",
   "execution_count": 130,
   "id": "continued-active",
   "metadata": {
    "scrolled": true
   },
   "outputs": [
    {
     "data": {
      "image/png": "[encoded data removed]",
      "text/plain": [
       "<Figure size 432x288 with 1 Axes>"
      ]
     },
     "metadata": {
      "needs_background": "light"
     },
     "output_type": "display_data"
    }
   ],
   "source": [
    "tick_loc = list(range(0,len(Us),1000))\n",
    "tick_lab = [round(Us[i],2) for i in tick_loc]\n",
    "fig, ax = plt.subplots()\n",
    "ax.plot(error_U)\n",
    "ax.set_xticks(tick_loc)\n",
    "ax.set_xticklabels(tick_lab);\n",
    "plt.xlabel('U factor')\n",
    "plt.ylabel('SSR over different strikes');"
   ]
  },
  {
   "cell_type": "code",
   "execution_count": 94,
   "id": "stupid-boating",
   "metadata": {},
   "outputs": [],
   "source": [
    "min_idx = np.argsort(error_U)[0]"
   ]
  },
  {
   "cell_type": "code",
   "execution_count": 95,
   "id": "spare-rocket",
   "metadata": {},
   "outputs": [],
   "source": [
    "U_optimal = Us[min_idx]\n",
    "D_optimal = (np.exp(Delta*r) - q*U_optimal)/(1-q)"
   ]
  },
  {
   "cell_type": "code",
   "execution_count": 96,
   "id": "outer-division",
   "metadata": {
    "scrolled": true
   },
   "outputs": [
    {
     "name": "stdout",
     "output_type": "stream",
     "text": [
      "Calibrated U: 1.05\n",
      "Calibrated D: 0.944\n"
     ]
    }
   ],
   "source": [
    "print('Calibrated U: {:.3}\\nCalibrated D: {:.3}'.format(U_optimal, D_optimal))"
   ]
  },
  {
   "cell_type": "code",
   "execution_count": 97,
   "id": "continent-truth",
   "metadata": {},
   "outputs": [
    {
     "data": {
      "text/plain": [
       "1114.8659140204675"
      ]
     },
     "execution_count": 97,
     "metadata": {},
     "output_type": "execute_result"
    }
   ],
   "source": [
    "# Test calibrated model\n",
    "test1 = calibrate_option(r, Delta, S_0, delta, U_optimal, q, T, 10200)\n",
    "test1.price_option(put=False)"
   ]
  },
  {
   "cell_type": "code",
   "execution_count": null,
   "id": "experimental-advertising",
   "metadata": {},
   "outputs": [],
   "source": [
    "# wheras price of the call in the table for that strike is 1114.862"
   ]
  }
 ],
 "metadata": {
  "kernelspec": {
   "display_name": "Python 3",
   "language": "python",
   "name": "python3"
  },
  "language_info": {
   "codemirror_mode": {
    "name": "ipython",
    "version": 3
   },
   "file_extension": ".py",
   "mimetype": "text/x-python",
   "name": "python",
   "nbconvert_exporter": "python",
   "pygments_lexer": "ipython3",
   "version": "3.8.8"
  }
 },
 "nbformat": 4,
 "nbformat_minor": 5
}
