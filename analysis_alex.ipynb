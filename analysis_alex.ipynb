{
 "cells": [
  {
   "cell_type": "code",
   "execution_count": 1,
   "id": "promotional-remedy",
   "metadata": {},
   "outputs": [],
   "source": [
    "import numpy as np\n",
    "import pandas as pd\n",
    "import matplotlib.pyplot as plt\n",
    "from sklearn.linear_model import LinearRegression\n",
    "import statsmodels.api as sm\n",
    "from RCN_alex import *"
   ]
  },
  {
   "cell_type": "markdown",
   "id": "e22ad51d-4160-48ad-a263-bbc042ca80f1",
   "metadata": {},
   "source": [
    "# Part 4\n",
    "\n",
    "## Q1\n",
    "\n",
    "Estimate $\\delta$ and $r$.\n",
    "\n",
    "Load price list"
   ]
  },
  {
   "cell_type": "code",
   "execution_count": 2,
   "id": "94419c72-8d60-45b9-8e64-102bc8720e61",
   "metadata": {},
   "outputs": [
    {
     "data": {
      "text/html": [
       "<div>\n",
       "<style scoped>\n",
       "    .dataframe tbody tr th:only-of-type {\n",
       "        vertical-align: middle;\n",
       "    }\n",
       "\n",
       "    .dataframe tbody tr th {\n",
       "        vertical-align: top;\n",
       "    }\n",
       "\n",
       "    .dataframe thead th {\n",
       "        text-align: right;\n",
       "    }\n",
       "</style>\n",
       "<table border=\"1\" class=\"dataframe\">\n",
       "  <thead>\n",
       "    <tr style=\"text-align: right;\">\n",
       "      <th></th>\n",
       "      <th>Strike</th>\n",
       "      <th>Call</th>\n",
       "      <th>Put</th>\n",
       "    </tr>\n",
       "  </thead>\n",
       "  <tbody>\n",
       "    <tr>\n",
       "      <th>0</th>\n",
       "      <td>12000</td>\n",
       "      <td>381.525</td>\n",
       "      <td>1662.321</td>\n",
       "    </tr>\n",
       "    <tr>\n",
       "      <th>1</th>\n",
       "      <td>11800</td>\n",
       "      <td>420.599</td>\n",
       "      <td>1499.822</td>\n",
       "    </tr>\n",
       "    <tr>\n",
       "      <th>2</th>\n",
       "      <td>11600</td>\n",
       "      <td>493.332</td>\n",
       "      <td>1370.990</td>\n",
       "    </tr>\n",
       "    <tr>\n",
       "      <th>3</th>\n",
       "      <td>11400</td>\n",
       "      <td>571.380</td>\n",
       "      <td>1247.470</td>\n",
       "    </tr>\n",
       "    <tr>\n",
       "      <th>4</th>\n",
       "      <td>11200</td>\n",
       "      <td>649.428</td>\n",
       "      <td>1123.951</td>\n",
       "    </tr>\n",
       "    <tr>\n",
       "      <th>5</th>\n",
       "      <td>11000</td>\n",
       "      <td>727.476</td>\n",
       "      <td>1000.440</td>\n",
       "    </tr>\n",
       "    <tr>\n",
       "      <th>6</th>\n",
       "      <td>10800</td>\n",
       "      <td>805.524</td>\n",
       "      <td>876.917</td>\n",
       "    </tr>\n",
       "    <tr>\n",
       "      <th>7</th>\n",
       "      <td>10600</td>\n",
       "      <td>883.572</td>\n",
       "      <td>753.399</td>\n",
       "    </tr>\n",
       "    <tr>\n",
       "      <th>8</th>\n",
       "      <td>10400</td>\n",
       "      <td>991.344</td>\n",
       "      <td>659.605</td>\n",
       "    </tr>\n",
       "    <tr>\n",
       "      <th>9</th>\n",
       "      <td>10200</td>\n",
       "      <td>1114.862</td>\n",
       "      <td>581.557</td>\n",
       "    </tr>\n",
       "    <tr>\n",
       "      <th>10</th>\n",
       "      <td>10000</td>\n",
       "      <td>1238.381</td>\n",
       "      <td>503.509</td>\n",
       "    </tr>\n",
       "    <tr>\n",
       "      <th>11</th>\n",
       "      <td>9800</td>\n",
       "      <td>1361.900</td>\n",
       "      <td>425.461</td>\n",
       "    </tr>\n",
       "    <tr>\n",
       "      <th>12</th>\n",
       "      <td>9600</td>\n",
       "      <td>1485.422</td>\n",
       "      <td>347.413</td>\n",
       "    </tr>\n",
       "    <tr>\n",
       "      <th>13</th>\n",
       "      <td>9400</td>\n",
       "      <td>1612.790</td>\n",
       "      <td>273.219</td>\n",
       "    </tr>\n",
       "    <tr>\n",
       "      <th>14</th>\n",
       "      <td>9200</td>\n",
       "      <td>1775.280</td>\n",
       "      <td>234.146</td>\n",
       "    </tr>\n",
       "    <tr>\n",
       "      <th>15</th>\n",
       "      <td>9000</td>\n",
       "      <td>1937.781</td>\n",
       "      <td>195.073</td>\n",
       "    </tr>\n",
       "  </tbody>\n",
       "</table>\n",
       "</div>"
      ],
      "text/plain": [
       "    Strike      Call       Put\n",
       "0    12000   381.525  1662.321\n",
       "1    11800   420.599  1499.822\n",
       "2    11600   493.332  1370.990\n",
       "3    11400   571.380  1247.470\n",
       "4    11200   649.428  1123.951\n",
       "5    11000   727.476  1000.440\n",
       "6    10800   805.524   876.917\n",
       "7    10600   883.572   753.399\n",
       "8    10400   991.344   659.605\n",
       "9    10200  1114.862   581.557\n",
       "10   10000  1238.381   503.509\n",
       "11    9800  1361.900   425.461\n",
       "12    9600  1485.422   347.413\n",
       "13    9400  1612.790   273.219\n",
       "14    9200  1775.280   234.146\n",
       "15    9000  1937.781   195.073"
      ]
     },
     "execution_count": 2,
     "metadata": {},
     "output_type": "execute_result"
    }
   ],
   "source": [
    "data = pd.read_csv('Data-Project1-Fin404.csv')\n",
    "data"
   ]
  },
  {
   "cell_type": "markdown",
   "id": "194b1a0a-bc05-461b-9090-d2eca8e26284",
   "metadata": {},
   "source": [
    "Linear regression of call-put against strike"
   ]
  },
  {
   "cell_type": "code",
   "execution_count": 3,
   "id": "114d6614-43ef-4235-aa75-73c9468ace4f",
   "metadata": {},
   "outputs": [],
   "source": [
    "ols = sm.OLS(\n",
    "    data.Call - data.Put,\n",
    "    sm.add_constant(data.Strike)\n",
    ").fit()\n",
    "alpha, beta = ols.params"
   ]
  },
  {
   "cell_type": "markdown",
   "id": "ec8c5cc0-e412-4294-8527-110cba6a0be6",
   "metadata": {},
   "source": [
    "Derive values for $\\delta$ and $r$"
   ]
  },
  {
   "cell_type": "code",
   "execution_count": 4,
   "id": "9b75ce74-9bc5-45c9-b3c1-e57a7b5b39f6",
   "metadata": {},
   "outputs": [
    {
     "name": "stdout",
     "output_type": "stream",
     "text": [
      "\n",
      "r: -0.78%%\n",
      "delta: 2.78%%\n",
      "\n"
     ]
    }
   ],
   "source": [
    "i0 = 11118\n",
    "r = -np.log(-beta)\n",
    "delta = -np.log(alpha/i0)\n",
    "\n",
    "print(\n",
    "\"\"\"\n",
    "r: {:.2%}%\n",
    "delta: {:.2%}%\n",
    "\"\"\".format(r, delta)\n",
    ")"
   ]
  },
  {
   "cell_type": "markdown",
   "id": "66acc144-4062-4d8b-b71b-272b7dafb3f5",
   "metadata": {},
   "source": [
    "## Q2\n",
    "\n",
    "Calibrate the binomial model."
   ]
  },
  {
   "cell_type": "markdown",
   "id": "5c81ce5c-456d-411d-9506-dea4a0dc4778",
   "metadata": {},
   "source": [
    "Define the value of the other know parameters."
   ]
  },
  {
   "cell_type": "code",
   "execution_count": 5,
   "id": "2413cc6e-4a09-40e9-8597-eaa3d5a5b2e8",
   "metadata": {},
   "outputs": [],
   "source": [
    "# Other params\n",
    "Delta = 30/360\n",
    "q = 1/2\n",
    "T = 12"
   ]
  },
  {
   "cell_type": "code",
   "execution_count": 6,
   "id": "3b912fe4-b7ed-441e-85f7-79ebd7c5751f",
   "metadata": {
    "tags": []
   },
   "outputs": [],
   "source": [
    "# Us = np.arange(1, np.exp(Delta * r) / q, .0001)\n",
    "\n",
    "# calibrator = Binomial_calibrator(r, Delta, i0, delta, Us, q, T, data.Strike, data.Call)\n",
    "\n",
    "# best_U, best_D = calibrator.calibrate()"
   ]
  },
  {
   "cell_type": "code",
   "execution_count": 7,
   "id": "20506e65-d7f1-4755-a50e-98899edf54ad",
   "metadata": {},
   "outputs": [],
   "source": [
    "best_U, best_D = 1.05500, 0.94370"
   ]
  },
  {
   "cell_type": "markdown",
   "id": "e578fe09-b5a7-486b-bce3-a78fdd74c390",
   "metadata": {},
   "source": [
    "# Part 5\n",
    "\n",
    "## Q1\n",
    "\n",
    "### i)"
   ]
  },
  {
   "cell_type": "code",
   "execution_count": 8,
   "id": "0f2b03a0-39d9-4566-8dc4-708cddaa7c5d",
   "metadata": {},
   "outputs": [
    {
     "data": {
      "text/plain": [
       "1.0099364617538527"
      ]
     },
     "execution_count": 8,
     "metadata": {},
     "output_type": "execute_result"
    }
   ],
   "source": [
    "RCN_binomial(r, Delta, i0, delta, best_U, best_D, range(1, 12), 0.1, exercise_price=1, barrier_level=None, _callable=False).price_RCN()"
   ]
  },
  {
   "cell_type": "markdown",
   "id": "2740b936-9aa1-459c-ac16-c7e485f26bf9",
   "metadata": {},
   "source": [
    "### ii)"
   ]
  },
  {
   "cell_type": "code",
   "execution_count": 9,
   "id": "2261ab5c-a143-4c62-a150-cc911f5f7dd1",
   "metadata": {},
   "outputs": [
    {
     "data": {
      "text/plain": [
       "1.063343444651538"
      ]
     },
     "execution_count": 9,
     "metadata": {},
     "output_type": "execute_result"
    }
   ],
   "source": [
    "RCN_binomial(r, Delta, i0, delta, best_U, best_D, range(1, 12), 0.1, exercise_price=1, barrier_level=0.8, _callable=False).price_RCN()"
   ]
  },
  {
   "cell_type": "markdown",
   "id": "f8be73dc-3380-49dd-88d0-f0e0bdef0bea",
   "metadata": {},
   "source": [
    "Old model with no + Delta c on not callable"
   ]
  },
  {
   "cell_type": "code",
   "execution_count": 7,
   "id": "126cd335-a09d-4dce-89c9-a1a9d38f451a",
   "metadata": {},
   "outputs": [
    {
     "data": {
      "text/plain": [
       "1.0099364716992132"
      ]
     },
     "execution_count": 7,
     "metadata": {},
     "output_type": "execute_result"
    }
   ],
   "source": [
    "# RCN_binomial(r, Delta, i0, delta, best_U, best_D, range(1, 12), 0.1, exercise_price=1, barrier_level=None, _callable=False).price_RCN()"
   ]
  },
  {
   "cell_type": "code",
   "execution_count": 8,
   "id": "536c94f5-3db6-4229-9d12-737d83651293",
   "metadata": {},
   "outputs": [
    {
     "data": {
      "text/plain": [
       "1.0633435820497554"
      ]
     },
     "execution_count": 8,
     "metadata": {},
     "output_type": "execute_result"
    }
   ],
   "source": [
    "# RCN_binomial(r, Delta, i0, delta, best_U, best_D, range(1, 12), 0.1, exercise_price=1, barrier_level=0.8, _callable=False).price_RCN()"
   ]
  },
  {
   "cell_type": "markdown",
   "id": "d5681fff-8d62-434d-85ea-0518307f9261",
   "metadata": {},
   "source": [
    "## Q2"
   ]
  },
  {
   "cell_type": "code",
   "execution_count": null,
   "id": "a28abf9f-a126-4edf-9b13-6c93896fc455",
   "metadata": {},
   "outputs": [],
   "source": [
    "def compute_par_coupon_Rate(alpha, beta):\n",
    "    cs = range(0.001, 0.20, 0.001)\n",
    "    for c in cs:\n",
    "        RCN_binomial(r, Delta, i0, delta, best_U, best_D, range(1, 12), c, exercise_price=1, barrier_level=0.8, _callable=False).price_RCN()"
   ]
  },
  {
   "cell_type": "markdown",
   "id": "f423b824-9712-4ac1-b9d1-b249436a1f27",
   "metadata": {},
   "source": [
    "Create a binomial model with the computed parameters."
   ]
  },
  {
   "cell_type": "code",
   "execution_count": null,
   "id": "2be7486a-1de6-4baf-9af1-399285653051",
   "metadata": {},
   "outputs": [],
   "source": [
    "model = RCN_binomial(r, Delta, i0, delta, best_U, best_D, dates, c, alpha, barrier_level=None, _callable=False)"
   ]
  }
 ],
 "metadata": {
  "kernelspec": {
   "display_name": "Python 3",
   "language": "python",
   "name": "python3"
  },
  "language_info": {
   "codemirror_mode": {
    "name": "ipython",
    "version": 3
   },
   "file_extension": ".py",
   "mimetype": "text/x-python",
   "name": "python",
   "nbconvert_exporter": "python",
   "pygments_lexer": "ipython3",
   "version": "3.7.6"
  }
 },
 "nbformat": 4,
 "nbformat_minor": 5
}
