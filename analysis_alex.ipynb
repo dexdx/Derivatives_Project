{
 "cells": [
  {
   "cell_type": "code",
   "execution_count": 1,
   "id": "promotional-remedy",
   "metadata": {},
   "outputs": [],
   "source": [
    "import numpy as np\n",
    "import pandas as pd\n",
    "import matplotlib.pyplot as plt\n",
    "import statsmodels.api as sm\n",
    "from RCN_alex import *"
   ]
  },
  {
   "cell_type": "markdown",
   "id": "e22ad51d-4160-48ad-a263-bbc042ca80f1",
   "metadata": {},
   "source": [
    "# Part 4\n",
    "\n",
    "## Q1\n",
    "\n",
    "Estimate $\\delta$ and $r$.\n",
    "\n",
    "Load price list"
   ]
  },
  {
   "cell_type": "code",
   "execution_count": 2,
   "id": "94419c72-8d60-45b9-8e64-102bc8720e61",
   "metadata": {},
   "outputs": [
    {
     "data": {
      "text/html": [
       "<div>\n",
       "<style scoped>\n",
       "    .dataframe tbody tr th:only-of-type {\n",
       "        vertical-align: middle;\n",
       "    }\n",
       "\n",
       "    .dataframe tbody tr th {\n",
       "        vertical-align: top;\n",
       "    }\n",
       "\n",
       "    .dataframe thead th {\n",
       "        text-align: right;\n",
       "    }\n",
       "</style>\n",
       "<table border=\"1\" class=\"dataframe\">\n",
       "  <thead>\n",
       "    <tr style=\"text-align: right;\">\n",
       "      <th></th>\n",
       "      <th>Strike</th>\n",
       "      <th>Call</th>\n",
       "      <th>Put</th>\n",
       "    </tr>\n",
       "  </thead>\n",
       "  <tbody>\n",
       "    <tr>\n",
       "      <th>0</th>\n",
       "      <td>12000</td>\n",
       "      <td>381.525</td>\n",
       "      <td>1662.321</td>\n",
       "    </tr>\n",
       "    <tr>\n",
       "      <th>1</th>\n",
       "      <td>11800</td>\n",
       "      <td>420.599</td>\n",
       "      <td>1499.822</td>\n",
       "    </tr>\n",
       "    <tr>\n",
       "      <th>2</th>\n",
       "      <td>11600</td>\n",
       "      <td>493.332</td>\n",
       "      <td>1370.990</td>\n",
       "    </tr>\n",
       "    <tr>\n",
       "      <th>3</th>\n",
       "      <td>11400</td>\n",
       "      <td>571.380</td>\n",
       "      <td>1247.470</td>\n",
       "    </tr>\n",
       "    <tr>\n",
       "      <th>4</th>\n",
       "      <td>11200</td>\n",
       "      <td>649.428</td>\n",
       "      <td>1123.951</td>\n",
       "    </tr>\n",
       "    <tr>\n",
       "      <th>5</th>\n",
       "      <td>11000</td>\n",
       "      <td>727.476</td>\n",
       "      <td>1000.440</td>\n",
       "    </tr>\n",
       "    <tr>\n",
       "      <th>6</th>\n",
       "      <td>10800</td>\n",
       "      <td>805.524</td>\n",
       "      <td>876.917</td>\n",
       "    </tr>\n",
       "    <tr>\n",
       "      <th>7</th>\n",
       "      <td>10600</td>\n",
       "      <td>883.572</td>\n",
       "      <td>753.399</td>\n",
       "    </tr>\n",
       "    <tr>\n",
       "      <th>8</th>\n",
       "      <td>10400</td>\n",
       "      <td>991.344</td>\n",
       "      <td>659.605</td>\n",
       "    </tr>\n",
       "    <tr>\n",
       "      <th>9</th>\n",
       "      <td>10200</td>\n",
       "      <td>1114.862</td>\n",
       "      <td>581.557</td>\n",
       "    </tr>\n",
       "    <tr>\n",
       "      <th>10</th>\n",
       "      <td>10000</td>\n",
       "      <td>1238.381</td>\n",
       "      <td>503.509</td>\n",
       "    </tr>\n",
       "    <tr>\n",
       "      <th>11</th>\n",
       "      <td>9800</td>\n",
       "      <td>1361.900</td>\n",
       "      <td>425.461</td>\n",
       "    </tr>\n",
       "    <tr>\n",
       "      <th>12</th>\n",
       "      <td>9600</td>\n",
       "      <td>1485.422</td>\n",
       "      <td>347.413</td>\n",
       "    </tr>\n",
       "    <tr>\n",
       "      <th>13</th>\n",
       "      <td>9400</td>\n",
       "      <td>1612.790</td>\n",
       "      <td>273.219</td>\n",
       "    </tr>\n",
       "    <tr>\n",
       "      <th>14</th>\n",
       "      <td>9200</td>\n",
       "      <td>1775.280</td>\n",
       "      <td>234.146</td>\n",
       "    </tr>\n",
       "    <tr>\n",
       "      <th>15</th>\n",
       "      <td>9000</td>\n",
       "      <td>1937.781</td>\n",
       "      <td>195.073</td>\n",
       "    </tr>\n",
       "  </tbody>\n",
       "</table>\n",
       "</div>"
      ],
      "text/plain": [
       "    Strike      Call       Put\n",
       "0    12000   381.525  1662.321\n",
       "1    11800   420.599  1499.822\n",
       "2    11600   493.332  1370.990\n",
       "3    11400   571.380  1247.470\n",
       "4    11200   649.428  1123.951\n",
       "5    11000   727.476  1000.440\n",
       "6    10800   805.524   876.917\n",
       "7    10600   883.572   753.399\n",
       "8    10400   991.344   659.605\n",
       "9    10200  1114.862   581.557\n",
       "10   10000  1238.381   503.509\n",
       "11    9800  1361.900   425.461\n",
       "12    9600  1485.422   347.413\n",
       "13    9400  1612.790   273.219\n",
       "14    9200  1775.280   234.146\n",
       "15    9000  1937.781   195.073"
      ]
     },
     "execution_count": 2,
     "metadata": {},
     "output_type": "execute_result"
    }
   ],
   "source": [
    "data = pd.read_csv('Data-Project1-Fin404.csv')\n",
    "data"
   ]
  },
  {
   "cell_type": "markdown",
   "id": "194b1a0a-bc05-461b-9090-d2eca8e26284",
   "metadata": {},
   "source": [
    "Linear regression of call-put against strike"
   ]
  },
  {
   "cell_type": "code",
   "execution_count": 3,
   "id": "114d6614-43ef-4235-aa75-73c9468ace4f",
   "metadata": {},
   "outputs": [],
   "source": [
    "ols = sm.OLS(\n",
    "    data.Call - data.Put,\n",
    "    sm.add_constant(data.Strike)\n",
    ").fit()\n",
    "alpha, beta = ols.params"
   ]
  },
  {
   "cell_type": "markdown",
   "id": "ec8c5cc0-e412-4294-8527-110cba6a0be6",
   "metadata": {},
   "source": [
    "Derive values for $\\delta$ and $r$"
   ]
  },
  {
   "cell_type": "code",
   "execution_count": 4,
   "id": "9b75ce74-9bc5-45c9-b3c1-e57a7b5b39f6",
   "metadata": {},
   "outputs": [
    {
     "name": "stdout",
     "output_type": "stream",
     "text": [
      "\n",
      "r: -0.78%%\n",
      "delta: 2.78%%\n",
      "\n"
     ]
    }
   ],
   "source": [
    "i0 = 11118\n",
    "r = -np.log(-beta)\n",
    "delta = -np.log(alpha/i0)\n",
    "\n",
    "print(\n",
    "\"\"\"\n",
    "r: {:.2%}%\n",
    "delta: {:.2%}%\n",
    "\"\"\".format(r, delta)\n",
    ")"
   ]
  },
  {
   "cell_type": "markdown",
   "id": "66acc144-4062-4d8b-b71b-272b7dafb3f5",
   "metadata": {},
   "source": [
    "## Q2\n",
    "\n",
    "Calibrate the binomial model."
   ]
  },
  {
   "cell_type": "markdown",
   "id": "5c81ce5c-456d-411d-9506-dea4a0dc4778",
   "metadata": {},
   "source": [
    "Define the value of the other know parameters."
   ]
  },
  {
   "cell_type": "code",
   "execution_count": 5,
   "id": "2413cc6e-4a09-40e9-8597-eaa3d5a5b2e8",
   "metadata": {},
   "outputs": [],
   "source": [
    "# Other params\n",
    "Delta = 30/360\n",
    "q = 1/2\n",
    "T = 12"
   ]
  },
  {
   "cell_type": "code",
   "execution_count": 6,
   "id": "3b912fe4-b7ed-441e-85f7-79ebd7c5751f",
   "metadata": {
    "tags": []
   },
   "outputs": [],
   "source": [
    "# Us = np.arange(1, np.exp(Delta * r) / q, .0001)\n",
    "\n",
    "# calibrator = Binomial_calibrator(r, Delta, i0, delta, Us, q, T, data.Strike, data.Call)\n",
    "\n",
    "# best_U, best_D = calibrator.calibrate()"
   ]
  },
  {
   "cell_type": "code",
   "execution_count": 7,
   "id": "20506e65-d7f1-4755-a50e-98899edf54ad",
   "metadata": {},
   "outputs": [],
   "source": [
    "best_U, best_D = 1.05500, 0.94370"
   ]
  },
  {
   "cell_type": "code",
   "execution_count": 8,
   "id": "addffb7f-1766-4e8a-892b-d994a996aa32",
   "metadata": {},
   "outputs": [],
   "source": [
    "# best_U, best_D = 1.054699999999994, 0.9440001342869291\n",
    "# r = -0.007801729853464256\n",
    "# delta = 0.02720239796079839"
   ]
  },
  {
   "cell_type": "markdown",
   "id": "e578fe09-b5a7-486b-bce3-a78fdd74c390",
   "metadata": {},
   "source": [
    "# Part 5\n",
    "\n",
    "## Q1\n",
    "\n",
    "### i)\n",
    "\n",
    "RCN with maturity one year, monthly payments, annualized coupon rate $c= 10\\%$ and strike $\\alpha = 1$."
   ]
  },
  {
   "cell_type": "code",
   "execution_count": 38,
   "id": "0f2b03a0-39d9-4566-8dc4-708cddaa7c5d",
   "metadata": {
    "jupyter": {
     "source_hidden": true
    },
    "tags": []
   },
   "outputs": [
    {
     "name": "stdout",
     "output_type": "stream",
     "text": [
      "price: $1.0117\n"
     ]
    }
   ],
   "source": [
    "print(\"price: ${:.4f}\".format(RCN_binomial(r, Delta, i0, delta, best_U, best_D, 12, 0.1, exercise_price=1, barrier_level=None, _callable=False).price_RCN()))"
   ]
  },
  {
   "cell_type": "markdown",
   "id": "2740b936-9aa1-459c-ac16-c7e485f26bf9",
   "metadata": {},
   "source": [
    "### ii)\n",
    "\n",
    "Barrier-RCN with maturity one year, monthly payments, annualized coupon rate $c= 10\\%$, strike $\\alpha = 1$ and barrier $\\beta= 0.8$."
   ]
  },
  {
   "cell_type": "code",
   "execution_count": 39,
   "id": "da8254d1-07d0-4c83-a2d1-9d2847cfb55c",
   "metadata": {
    "jupyter": {
     "source_hidden": true
    },
    "tags": []
   },
   "outputs": [
    {
     "name": "stdout",
     "output_type": "stream",
     "text": [
      "price: $1.0443\n"
     ]
    }
   ],
   "source": [
    "print(\"price: ${:.4f}\".format(RCN_binomial(r, Delta, i0, delta, best_U, best_D, 12, 0.1, exercise_price=1, barrier_level=0.8, _callable=False).price_RCN()))"
   ]
  },
  {
   "cell_type": "markdown",
   "id": "d5681fff-8d62-434d-85ea-0518307f9261",
   "metadata": {},
   "source": [
    "## Q2"
   ]
  },
  {
   "cell_type": "markdown",
   "id": "26258657-8786-495b-9cd2-7ff31cf85eea",
   "metadata": {},
   "source": [
    "\n",
    "## Q6\n",
    "\n",
    "### i)\n",
    "\n",
    "Callable RCN with maturity one year, monthly payments, annualized coupon rate $c= 10\\%$ and strike $\\alpha = 1$."
   ]
  },
  {
   "cell_type": "code",
   "execution_count": 31,
   "id": "2fcf4da3-c10c-431e-a89e-41e3be046924",
   "metadata": {
    "jupyter": {
     "source_hidden": true
    },
    "tags": []
   },
   "outputs": [
    {
     "name": "stdout",
     "output_type": "stream",
     "text": [
      "price: $0.9920\n"
     ]
    }
   ],
   "source": [
    "print(\"price: ${:.4f}\".format(RCN_binomial(r, Delta, i0, delta, best_U, best_D, 12, annualized_coupon=0.1, exercise_price=1, barrier_level=None, _callable=True).price_RCN()))"
   ]
  },
  {
   "cell_type": "markdown",
   "id": "6fc71c95-a5e3-4d84-bccf-c57759db204a",
   "metadata": {},
   "source": [
    "### ii)\n",
    "\n",
    "Callable Barrier-RCN with maturity one year, monthly payments, annualized coupon rate $c= 10\\%$, strike $\\alpha = 1$ and barrier $\\beta= 0.8$."
   ]
  },
  {
   "cell_type": "code",
   "execution_count": 33,
   "id": "ae42dd26-9ea7-4a4b-840c-1563e3ca513c",
   "metadata": {
    "jupyter": {
     "source_hidden": true
    },
    "tags": []
   },
   "outputs": [
    {
     "name": "stdout",
     "output_type": "stream",
     "text": [
      "price: $0.9995\n"
     ]
    }
   ],
   "source": [
    "print(\"price: ${:.4f}\".format(RCN_binomial(r, Delta, i0, delta, best_U, best_D, 12, annualized_coupon=0.1, exercise_price=1, barrier_level=0.8, _callable=True).price_RCN()))"
   ]
  },
  {
   "cell_type": "markdown",
   "id": "f62a79b6-8e79-4144-b009-d6e7d671b3ba",
   "metadata": {},
   "source": [
    "The exercise rule of the issuer is as follows:\n",
    "- Compute the continuation value using the equivalent martingale\n",
    "- if the continuation value is over 1 then call\n",
    "\n",
    "which is why the current option price is:\n",
    "$$\n",
    "\\min \\left(\\gamma \\left(q P_{2 i, t+1} + (1-q)P_{2i+1, t+1} \\right), 1 \\right) + \\Delta c \\cdot \\mathbf{1}_{\\{t \\neq 0 \\}}\n",
    "$$\n",
    "\n",
    "Note: $\\Delta c$ terms are there because one way or another, the issuer will have to pay the coupon (except at $t=0$)"
   ]
  },
  {
   "cell_type": "markdown",
   "id": "628bf7e9-89f4-4595-9381-7ded19c281b2",
   "metadata": {},
   "source": [
    "## Q7\n",
    "\n",
    "We define a `binary_search` function to compute par-parameters."
   ]
  },
  {
   "cell_type": "code",
   "execution_count": 15,
   "id": "dd2871f7-ab90-44c2-878e-2b16eee2e52e",
   "metadata": {
    "jupyter": {
     "source_hidden": true
    },
    "tags": []
   },
   "outputs": [],
   "source": [
    "def binary_search(l, r, f, eps):\n",
    "    left, right = l, r\n",
    "    left_val, right_val = f(left), f(right)\n",
    "    if left_val * right_val > 0:\n",
    "        return np.nan\n",
    "    else:\n",
    "        while np.abs(right - left) > eps:\n",
    "            mid = 0.5 * (left + right)\n",
    "            mid_val = f(mid)\n",
    "            if left_val * mid_val < 0:\n",
    "                right = mid\n",
    "                right_val = mid_val\n",
    "            else:\n",
    "                left = mid\n",
    "                left_val = mid_val\n",
    "        res = 0.5 * (left + right)\n",
    "        return res"
   ]
  },
  {
   "cell_type": "markdown",
   "id": "06ba1071-732c-4372-bc44-4bf0933a083b",
   "metadata": {},
   "source": [
    "Callable RCN with maturity one year, monthly payments and strike $\\alpha = 1$."
   ]
  },
  {
   "cell_type": "code",
   "execution_count": 25,
   "id": "c5c918a8-5682-42fc-b3c9-cd8dfde05201",
   "metadata": {
    "jupyter": {
     "source_hidden": true
    },
    "tags": []
   },
   "outputs": [
    {
     "name": "stdout",
     "output_type": "stream",
     "text": [
      "par-c: 11.85%\n"
     ]
    }
   ],
   "source": [
    "f = lambda c: 1 - RCN_binomial(r, Delta, i0, delta, best_U, best_D, 12, annualized_coupon=c, exercise_price=1., barrier_level=None, _callable=True).price_RCN()\n",
    "print(\"par-c: {:.2%}\".format(binary_search(-0.2, 0.2, f, 0.0001)))"
   ]
  },
  {
   "cell_type": "markdown",
   "id": "41d432d9-df2e-42ec-af91-1be52def26ae",
   "metadata": {},
   "source": [
    "Callable Barrier-RCN with maturity one year, monthly payments, strike $\\alpha = 1$ and barrier $\\beta= 0.8$."
   ]
  },
  {
   "cell_type": "code",
   "execution_count": 24,
   "id": "126957fd-9fdb-4875-8677-30275b067308",
   "metadata": {
    "jupyter": {
     "source_hidden": true
    },
    "tags": []
   },
   "outputs": [
    {
     "name": "stdout",
     "output_type": "stream",
     "text": [
      "par-c: 10.15%\n"
     ]
    }
   ],
   "source": [
    "f = lambda c: 1 - RCN_binomial(r, Delta, i0, delta, best_U, best_D, 12, annualized_coupon=c, exercise_price=1., barrier_level=0.8, _callable=True).price_RCN()\n",
    "print(\"par-c: {:.2%}\".format(binary_search(-0.2, 0.2, f, 0.0001)))"
   ]
  },
  {
   "cell_type": "code",
   "execution_count": 28,
   "id": "10c374cf-7c72-4fca-b513-720612758d60",
   "metadata": {
    "jupyter": {
     "source_hidden": true
    },
    "tags": []
   },
   "outputs": [
    {
     "data": {
      "image/png": "[encoded data removed]",
      "text/plain": [
       "<Figure size 432x288 with 1 Axes>"
      ]
     },
     "metadata": {
      "needs_background": "light"
     },
     "output_type": "display_data"
    }
   ],
   "source": [
    "fig, ax = plt.subplots()\n",
    "alphas = np.linspace(0., 1., 50)\n",
    "for beta in [0.4, 0.6, 0.8, 1]:\n",
    "    par_cs = []\n",
    "    for alpha in alphas:\n",
    "        f = lambda c: 1 - RCN_binomial(r, Delta, i0, delta, best_U, best_D, 12, annualized_coupon=c, exercise_price=alpha, barrier_level=beta*alpha, _callable=True).price_RCN()\n",
    "        par_cs.append(binary_search(-0.2, 0.2, f, 0.0001))\n",
    "    ax.plot(alphas*100, np.array(par_cs)*100, label=beta)\n",
    "ax.set(\n",
    "    xlabel = r\"$\\alpha$ [%]\",\n",
    "    ylabel = r\"par-$c$ [%]\",\n",
    "    title = r\"par-$c$ vs $\\alpha$ for callable Barrier-RCNs\"\n",
    ")\n",
    "ax.legend(title = r\"$\\frac{\\beta}{\\alpha}$\")\n",
    "plt.show()"
   ]
  },
  {
   "cell_type": "markdown",
   "id": "c0529106-78d2-4d80-abe8-e7f73f1df4a3",
   "metadata": {},
   "source": [
    "## Q8"
   ]
  },
  {
   "cell_type": "markdown",
   "id": "a811c798-da5f-4fe8-8b9e-12b4b478b143",
   "metadata": {},
   "source": [
    "Callable Barrier-RCN with maturity one year, monthly payments, annualized coupon rate $c= 10\\%$ and barrier $\\beta= 0.8$."
   ]
  },
  {
   "cell_type": "code",
   "execution_count": 30,
   "id": "e6ee1321-5ba5-421c-9b81-4182e071974c",
   "metadata": {
    "jupyter": {
     "source_hidden": true
    },
    "tags": []
   },
   "outputs": [
    {
     "name": "stdout",
     "output_type": "stream",
     "text": [
      "par-alpha: 99.66%\n"
     ]
    }
   ],
   "source": [
    "f = lambda alpha: 1 - RCN_binomial(r, Delta, i0, delta, best_U, best_D, 12, annualized_coupon=0.1, exercise_price=alpha, barrier_level=0.8, _callable=True).price_RCN()\n",
    "print(\"par-alpha: {:.2%}\".format(binary_search(0, 1, f, 0.001)))"
   ]
  },
  {
   "cell_type": "code",
   "execution_count": 36,
   "id": "3fbff97f-d01f-410e-8e41-3c353131a38c",
   "metadata": {
    "jupyter": {
     "source_hidden": true
    },
    "tags": []
   },
   "outputs": [
    {
     "data": {
      "image/png": "[encoded data removed]",
      "text/plain": [
       "<Figure size 432x288 with 1 Axes>"
      ]
     },
     "metadata": {
      "needs_background": "light"
     },
     "output_type": "display_data"
    }
   ],
   "source": [
    "fig, ax = plt.subplots()\n",
    "cs = np.linspace(-0.05, 0.15, 50)\n",
    "for beta in [0.4, 0.6, 0.8, 1]:\n",
    "    alphas = []\n",
    "    for c in cs:\n",
    "        f = lambda alpha: 1 - RCN_binomial(r, Delta, i0, delta, best_U, best_D, 12, annualized_coupon=c, exercise_price=alpha, barrier_level=beta*alpha, _callable=True).price_RCN()\n",
    "        par_alpha = binary_search(0., 1., f, 0.001)\n",
    "        alphas.append(par_alpha)\n",
    "    ax.plot(cs*100, np.array(alphas)*100, label=beta)\n",
    "ax.set(\n",
    "    xlabel = r\"$c$ [%]\",\n",
    "    ylabel = r\"par-$\\alpha$ [%]\",\n",
    "    title = r\"par-$\\alpha$ vs $c$ for callable Barrier-RCNs\"\n",
    ")\n",
    "ax.legend(title = r\"$\\frac{\\beta}{\\alpha}$\")\n",
    "plt.show()"
   ]
  }
 ],
 "metadata": {
  "kernelspec": {
   "display_name": "Python 3",
   "language": "python",
   "name": "python3"
  },
  "language_info": {
   "codemirror_mode": {
    "name": "ipython",
    "version": 3
   },
   "file_extension": ".py",
   "mimetype": "text/x-python",
   "name": "python",
   "nbconvert_exporter": "python",
   "pygments_lexer": "ipython3",
   "version": "3.7.6"
  }
 },
 "nbformat": 4,
 "nbformat_minor": 5
}
