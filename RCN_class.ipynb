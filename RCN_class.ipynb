{
 "cells": [
  {
   "cell_type": "code",
   "execution_count": 1,
   "id": "japanese-filing",
   "metadata": {},
   "outputs": [],
   "source": [
    "import numpy as np"
   ]
  },
  {
   "cell_type": "code",
   "execution_count": 30,
   "id": "dated-package",
   "metadata": {},
   "outputs": [],
   "source": [
    "class RCN_binomial:\n",
    "    def __init__(self, interest_rate, period_length, initial_price, dividend_yield, up_factor, down_factor,\n",
    "                 payment_dates, annualized_coupon, exercise_price, Simple=True, Callable=False, barrier_level=None):\n",
    "        # binomial model parameters\n",
    "        self.r = interest_rate\n",
    "        self.Delta = period_length\n",
    "        self.i0 = initial_price\n",
    "        self.delta = dividend_yield\n",
    "        self.U = up_factor\n",
    "        self.D = down_factor\n",
    "        \n",
    "        self.gamma = np.exp(-self.r*self.Delta)\n",
    "        self.q = (1/self.gamma - self.D)/(self.U - self.D)\n",
    "        \n",
    "        # RCN characteristics\n",
    "        self.simple = Simple\n",
    "        self.callable = Callable\n",
    "        self.dates = payment_dates\n",
    "        self.T = payment_dates[len(payment_dates)-1]\n",
    "        self.c = annualized_coupon\n",
    "        self.alpha = exercise_price\n",
    "        self.beta = barrier_level\n",
    "        \n",
    "        self.barrier = self.beta*self.i0\n",
    "    \n",
    "    def terminal_payoffs(self, put=True):\n",
    "        t = np.arange(1, self.T+1, 1)\n",
    "        div = 1\n",
    "        if self.delta == 0:\n",
    "            div = 0\n",
    "        if self.simple:\n",
    "            # with Markov property\n",
    "            P = np.zeros((self.T+1, self.T+1))\n",
    "            P[0,0] = self.i0\n",
    "            for j in t:\n",
    "                for i in range(j+1):\n",
    "                    if i == 0:\n",
    "                        P[i,j] = P[i,j-1] * (self.U - div*np.exp(-self.delta*self.Delta))\n",
    "                    else:\n",
    "                        P[i,j] = P[i-1,j-1] * (self.D - div*np.exp(-self.delta*self.Delta))\n",
    "        else:\n",
    "            # can't use Markov property with barrier\n",
    "            P = np.zeros((2**self.T, self.T+1))\n",
    "            B = np.zeros((2**self.T, self.T+1), dtype=bool) # matrix of price if BELOW barrier (init False)\n",
    "            P[0,0] = self.i0\n",
    "            for j in t:\n",
    "                for i in range(2**j):\n",
    "                    if i%2 == 0:\n",
    "                        P[i,j] = P[int(i/2),j-1] * (self.U - div*np.exp(-self.delta*self.Delta))\n",
    "                    else:\n",
    "                        P[i,j] = P[int((i-1)/2),j-1] * (self.D - div*np.exp(-self.delta*self.Delta))\n",
    "                    if not B[i,j] and j < self.T: # if not already True, check price and barrier\n",
    "                        if P[i,j] <= self.barrier: # change to True and \"propagate\" True to next direct nodes\n",
    "                            B[i,j] = True\n",
    "                            B[2*i,j+1] = True\n",
    "                            B[2*i+1,j+1] = True\n",
    "        \n",
    "        H = np.maximum(self.alpha*self.i0 - P[:,self.T], 0)\n",
    "        if not self.simple:\n",
    "            H = H * B[:,self.T] # payoff only if price was below barrier at some point in the path leading to terminal node\n",
    "        if not put:\n",
    "            H = np.maximum(P[:,self.T] - self.alpha*self.i0, 0)\n",
    "        return H\n",
    "    \n",
    "    def price_option(self, put=True):\n",
    "        if self.q <= 0 or self.q >= 1:\n",
    "            return\n",
    "        t = np.arange(self.T-1,-1,-1)\n",
    "        if self.simple:\n",
    "            # with Markov propoerty\n",
    "            P = np.zeros((self.T+1, self.T+1))\n",
    "            P[:,self.T] = self.terminal_payoffs(put)\n",
    "            for j in t:\n",
    "                for i in range(j+1):\n",
    "                    P[i,j] = self.gamma*( self.q*P[i, j+1] + (1-self.q)*P[i+1, j+1] )\n",
    "            return P[0,0]\n",
    "        else:\n",
    "            # can't use Markov property with barrier\n",
    "            P = np.zeros((2**self.T, self.T+1))\n",
    "            P[:,self.T] = self.terminal_payoffs(put)\n",
    "            for j in t:\n",
    "                for i in range(2**j):\n",
    "                    P[i,j] = self.gamma*( self.q*P[2*i, j+1] + (1-self.q)*P[2*i+1, j+1] )\n",
    "            return P[0,0]\n",
    "    \n",
    "    def price_bonds(self):\n",
    "        pv_bonds = 0\n",
    "        for i in self.dates:\n",
    "            pv_bonds += self.Delta*self.c*np.exp(-self.r*self.Delta*i)\n",
    "        pv_bonds += np.exp(-self.r*self.Delta*self.T)\n",
    "        return pv_bonds\n",
    "    \n",
    "    def price_RCN(self):\n",
    "        replicating_initial_cashflow = self.price_option()/self.i0 - self.price_bonds()\n",
    "        return -replicating_initial_cashflow"
   ]
  },
  {
   "cell_type": "code",
   "execution_count": 3,
   "id": "designing-vienna",
   "metadata": {
    "scrolled": true
   },
   "outputs": [],
   "source": [
    "# simple example\n",
    "rcn_simple = RCN_binomial(interest_rate=.01, period_length=1, initial_price=10, dividend_yield=0, up_factor=2, down_factor=1/2,\n",
    "                 payment_dates=[1,2,3], annualized_coupon=0.05, exercise_price=1, Simple=True, Callable=False, barrier_level=None)"
   ]
  },
  {
   "cell_type": "code",
   "execution_count": 4,
   "id": "average-packing",
   "metadata": {
    "scrolled": true
   },
   "outputs": [
    {
     "data": {
      "text/plain": [
       "array([0.  , 0.  , 5.  , 8.75])"
      ]
     },
     "execution_count": 4,
     "metadata": {},
     "output_type": "execute_result"
    }
   ],
   "source": [
    "rcn_simple.terminal_payoffs()"
   ]
  },
  {
   "cell_type": "code",
   "execution_count": 34,
   "id": "disciplinary-cowboy",
   "metadata": {
    "scrolled": true
   },
   "outputs": [
    {
     "data": {
      "text/plain": [
       "4.596768514400439"
      ]
     },
     "execution_count": 34,
     "metadata": {},
     "output_type": "execute_result"
    }
   ],
   "source": [
    "rcn_simple.price_option()"
   ]
  },
  {
   "cell_type": "code",
   "execution_count": 33,
   "id": "endangered-hospital",
   "metadata": {
    "scrolled": true
   },
   "outputs": [
    {
     "data": {
      "text/plain": [
       "0.6578033841386858"
      ]
     },
     "execution_count": 33,
     "metadata": {},
     "output_type": "execute_result"
    }
   ],
   "source": [
    "rcn_simple.price_RCN()"
   ]
  },
  {
   "cell_type": "code",
   "execution_count": 31,
   "id": "tender-concern",
   "metadata": {},
   "outputs": [],
   "source": [
    "rcn_barrier = RCN_binomial(interest_rate=.01, period_length=1, initial_price=10, dividend_yield=0, up_factor=2, down_factor=1/2,\n",
    "                 payment_dates=[1,2,3], annualized_coupon=0.05, exercise_price=1, Simple=False, Callable=False, barrier_level=1)"
   ]
  },
  {
   "cell_type": "code",
   "execution_count": 35,
   "id": "civil-reminder",
   "metadata": {
    "scrolled": false
   },
   "outputs": [
    {
     "data": {
      "text/plain": [
       "array([0., 0., 0., 5., 0., 0., 0., 0.])"
      ]
     },
     "execution_count": 35,
     "metadata": {},
     "output_type": "execute_result"
    }
   ],
   "source": [
    "rcn_barrier.terminal_payoffs()"
   ]
  },
  {
   "cell_type": "code",
   "execution_count": 32,
   "id": "liked-strand",
   "metadata": {},
   "outputs": [
    {
     "data": {
      "text/plain": [
       "0.7186321790700138"
      ]
     },
     "execution_count": 32,
     "metadata": {},
     "output_type": "execute_result"
    }
   ],
   "source": [
    "rcn_barrier.price_option()"
   ]
  }
 ],
 "metadata": {
  "kernelspec": {
   "display_name": "Python 3",
   "language": "python",
   "name": "python3"
  },
  "language_info": {
   "codemirror_mode": {
    "name": "ipython",
    "version": 3
   },
   "file_extension": ".py",
   "mimetype": "text/x-python",
   "name": "python",
   "nbconvert_exporter": "python",
   "pygments_lexer": "ipython3",
   "version": "3.8.8"
  }
 },
 "nbformat": 4,
 "nbformat_minor": 5
}
