{
 "cells": [
  {
   "cell_type": "code",
   "execution_count": 1,
   "id": "beginning-development",
   "metadata": {},
   "outputs": [],
   "source": [
    "from RCN import *\n",
    "import numpy as np\n",
    "import matplotlib.pyplot as plt\n",
    "import json"
   ]
  },
  {
   "cell_type": "code",
   "execution_count": 171,
   "id": "conscious-marble",
   "metadata": {},
   "outputs": [],
   "source": [
    "# calibrated parameters from part_4.ipynb\n",
    "r = -0.007801729853464256\n",
    "delta = 0.02720239796079839\n",
    "U = 1.054699999999994\n",
    "D = 0.9440001342869291"
   ]
  },
  {
   "cell_type": "markdown",
   "id": "successful-ballot",
   "metadata": {},
   "source": [
    "### 1)\n",
    "#### i)"
   ]
  },
  {
   "cell_type": "code",
   "execution_count": 314,
   "id": "herbal-spokesman",
   "metadata": {},
   "outputs": [],
   "source": [
    "payment_dates = np.arange(1,13)\n",
    "period_length = 1/12\n",
    "coupon_rate = 0.10\n",
    "initial_price = 11118\n",
    "exercise_price = 1"
   ]
  },
  {
   "cell_type": "code",
   "execution_count": 315,
   "id": "dramatic-brooklyn",
   "metadata": {},
   "outputs": [],
   "source": [
    "rcn1 = RCN_binomial(r, period_length, initial_price, delta, U, D,\n",
    "                    payment_dates, coupon_rate, exercise_price, Simple=True, Callable=False, barrier_level=None)"
   ]
  },
  {
   "cell_type": "code",
   "execution_count": 316,
   "id": "requested-momentum",
   "metadata": {
    "scrolled": true
   },
   "outputs": [
    {
     "data": {
      "text/plain": [
       "1.0124083511877382"
      ]
     },
     "execution_count": 316,
     "metadata": {},
     "output_type": "execute_result"
    }
   ],
   "source": [
    "rcn1.price_RCN()"
   ]
  },
  {
   "cell_type": "markdown",
   "id": "frank-visitor",
   "metadata": {},
   "source": [
    "#### ii)"
   ]
  },
  {
   "cell_type": "code",
   "execution_count": 319,
   "id": "native-expert",
   "metadata": {},
   "outputs": [],
   "source": [
    "barrier_level = .8\n",
    "rcn2 = RCN_binomial(r, period_length, initial_price, delta, U, D,\n",
    "                    payment_dates, coupon_rate, exercise_price, Simple=False, Callable=False, barrier_level=barrier_level)"
   ]
  },
  {
   "cell_type": "code",
   "execution_count": 318,
   "id": "vital-quarter",
   "metadata": {
    "scrolled": true
   },
   "outputs": [
    {
     "data": {
      "text/plain": [
       "1.0124083511877382"
      ]
     },
     "execution_count": 318,
     "metadata": {},
     "output_type": "execute_result"
    }
   ],
   "source": [
    "rcn2.set_barrier()\n",
    "rcn2.price_RCN()"
   ]
  },
  {
   "cell_type": "markdown",
   "id": "stopped-melissa",
   "metadata": {},
   "source": [
    "### 2)"
   ]
  },
  {
   "cell_type": "code",
   "execution_count": 8,
   "id": "buried-relief",
   "metadata": {},
   "outputs": [],
   "source": [
    "par_rate1 = 0\n",
    "rcn1_par = RCN_binomial(r, period_length, initial_price, delta, U, D,\n",
    "                       payment_dates, par_rate1, exercise_price, Simple=True, Callable=False, barrier_level=None)\n",
    "while np.abs(rcn1_par.price_RCN() - 1) > .001:\n",
    "    par_rate1 += .001\n",
    "    rcn1_par = RCN_binomial(r, period_length, initial_price, delta, U, D,\n",
    "                           payment_dates, par_rate1, exercise_price, Simple=True, Callable=False, barrier_level=None)"
   ]
  },
  {
   "cell_type": "code",
   "execution_count": 9,
   "id": "polyphonic-harvest",
   "metadata": {},
   "outputs": [
    {
     "data": {
      "text/plain": [
       "0.08700000000000006"
      ]
     },
     "execution_count": 9,
     "metadata": {},
     "output_type": "execute_result"
    }
   ],
   "source": [
    "par_rate1"
   ]
  },
  {
   "cell_type": "code",
   "execution_count": 10,
   "id": "royal-camel",
   "metadata": {},
   "outputs": [
    {
     "data": {
      "text/plain": [
       "1.0"
      ]
     },
     "execution_count": 10,
     "metadata": {},
     "output_type": "execute_result"
    }
   ],
   "source": [
    "round(rcn1_par.price_RCN(),2)"
   ]
  },
  {
   "cell_type": "code",
   "execution_count": 11,
   "id": "charitable-practitioner",
   "metadata": {},
   "outputs": [],
   "source": [
    "par_rate2 = 0\n",
    "rcn2_par = RCN_binomial(r, period_length, initial_price, delta, U, D,\n",
    "                       payment_dates, par_rate2, exercise_price, Simple=False, Callable=False, barrier_level=barrier_level)\n",
    "rcn2_par.set_barrier()\n",
    "while np.abs(rcn2_par.price_RCN() - 1) > .001:\n",
    "    par_rate2 += .001\n",
    "    rcn2_par = RCN_binomial(r, period_length, initial_price, delta, U, D,\n",
    "                       payment_dates, par_rate2, exercise_price, Simple=False, Callable=False, barrier_level=barrier_level)\n",
    "    rcn2_par.set_barrier()"
   ]
  },
  {
   "cell_type": "code",
   "execution_count": 12,
   "id": "sudden-subdivision",
   "metadata": {},
   "outputs": [
    {
     "data": {
      "text/plain": [
       "0.04500000000000003"
      ]
     },
     "execution_count": 12,
     "metadata": {},
     "output_type": "execute_result"
    }
   ],
   "source": [
    "par_rate2"
   ]
  },
  {
   "cell_type": "code",
   "execution_count": 13,
   "id": "spoken-complaint",
   "metadata": {},
   "outputs": [
    {
     "data": {
      "text/plain": [
       "1.0"
      ]
     },
     "execution_count": 13,
     "metadata": {},
     "output_type": "execute_result"
    }
   ],
   "source": [
    "round(rcn2_par.price_RCN(),2)"
   ]
  },
  {
   "cell_type": "code",
   "execution_count": 14,
   "id": "spare-formula",
   "metadata": {},
   "outputs": [],
   "source": [
    "barrier_levels = np.arange(.4,1.2,.2)\n",
    "strikes = np.linspace(.5,1.5)"
   ]
  },
  {
   "cell_type": "code",
   "execution_count": 15,
   "id": "weighted-marriage",
   "metadata": {},
   "outputs": [],
   "source": [
    "par_simple = []\n",
    "par_barrier = {}"
   ]
  },
  {
   "cell_type": "code",
   "execution_count": 16,
   "id": "acquired-hindu",
   "metadata": {},
   "outputs": [],
   "source": [
    "for s in strikes:\n",
    "    par = -.10\n",
    "    simple = RCN_binomial(r, period_length, initial_price, delta, U, D,\n",
    "                          payment_dates, par, s, Simple=True, Callable=False, barrier_level=None)\n",
    "    while np.abs(simple.price_RCN() - 1) > .001:\n",
    "        par += .001\n",
    "        simple = RCN_binomial(r, period_length, initial_price, delta, U, D,\n",
    "                              payment_dates, par, s, Simple=True, Callable=False, barrier_level=None)\n",
    "    par_simple.append(par)"
   ]
  },
  {
   "cell_type": "code",
   "execution_count": 17,
   "id": "informative-river",
   "metadata": {
    "scrolled": true
   },
   "outputs": [
    {
     "data": {
      "text/plain": [
       "'\\nfor b in barrier_levels:\\n    for s in strikes:\\n        print(b,s)\\n        par = -.10\\n        barrier = RCN_binomial(r, period_length, initial_price, delta, U, D,\\n                  payment_dates, par, s, Simple=False, Callable=False, barrier_level=b)\\n        barrier.set_barrier()\\n        while np.abs(barrier.price_RCN() - 1) > .001:\\n            par += .001\\n            barrier = RCN_binomial(r, period_length, initial_price, delta, U, D,\\n                      payment_dates, par, s, Simple=False, Callable=False, barrier_level=b)\\n            barrier.set_barrier()\\n        if s == strikes[0]:\\n            par_barrier[b] = [par]\\n        else:\\n            par_barrier[b].append(par)\\n'"
      ]
     },
     "execution_count": 17,
     "metadata": {},
     "output_type": "execute_result"
    }
   ],
   "source": [
    "\"\"\"\n",
    "for b in barrier_levels:\n",
    "    for s in strikes:\n",
    "        print(b,s)\n",
    "        par = -.10\n",
    "        barrier = RCN_binomial(r, period_length, initial_price, delta, U, D,\n",
    "                  payment_dates, par, s, Simple=False, Callable=False, barrier_level=b)\n",
    "        barrier.set_barrier()\n",
    "        while np.abs(barrier.price_RCN() - 1) > .001:\n",
    "            par += .001\n",
    "            barrier = RCN_binomial(r, period_length, initial_price, delta, U, D,\n",
    "                      payment_dates, par, s, Simple=False, Callable=False, barrier_level=b)\n",
    "            barrier.set_barrier()\n",
    "        if s == strikes[0]:\n",
    "            par_barrier[b] = [par]\n",
    "        else:\n",
    "            par_barrier[b].append(par)\n",
    "\"\"\""
   ]
  },
  {
   "cell_type": "code",
   "execution_count": 18,
   "id": "democratic-ballet",
   "metadata": {},
   "outputs": [],
   "source": [
    "# block above takes more time to execute, save output to avoid running again\n",
    "\"\"\"\n",
    "with open('par_barrier.json', 'w') as f:\n",
    "    json.dump(par_barrier, f)\n",
    "\"\"\"\n",
    "f = open('par_barrier.json',)\n",
    "par_barrier = json.load(f)"
   ]
  },
  {
   "cell_type": "code",
   "execution_count": 19,
   "id": "thorough-palestine",
   "metadata": {},
   "outputs": [],
   "source": [
    "tick_loc = list(range(0,len(strikes)+1,9))\n",
    "tick_lab = [round(strikes[i],2) for i in tick_loc]"
   ]
  },
  {
   "cell_type": "code",
   "execution_count": 44,
   "id": "better-dakota",
   "metadata": {},
   "outputs": [
    {
     "data": {
      "image/png": "[encoded data removed]",
      "text/plain": [
       "<Figure size 432x288 with 1 Axes>"
      ]
     },
     "metadata": {
      "needs_background": "light"
     },
     "output_type": "display_data"
    }
   ],
   "source": [
    "fig, ax = plt.subplots()\n",
    "plt.plot(par_simple)\n",
    "ax.set_xticks(tick_loc);\n",
    "ax.set_xticklabels(tick_lab);\n",
    "plt.xlabel('alpha');\n",
    "plt.ylabel('Par coupon rate');\n",
    "plt.title('Par rate vs Alpha for simple RCN');"
   ]
  },
  {
   "cell_type": "code",
   "execution_count": 43,
   "id": "motivated-colombia",
   "metadata": {
    "scrolled": true
   },
   "outputs": [
    {
     "data": {
      "image/png": "[encoded data removed]",
      "text/plain": [
       "<Figure size 432x288 with 1 Axes>"
      ]
     },
     "metadata": {
      "needs_background": "light"
     },
     "output_type": "display_data"
    }
   ],
   "source": [
    "fig, ax = plt.subplots()\n",
    "for i in range(len(par_barrier)):\n",
    "    ax.plot(par_barrier[str(barrier_levels[i])], label = 'beta = '+str(round(barrier_levels[i],2)))\n",
    "plt.legend()\n",
    "ax.set_xticks(tick_loc);\n",
    "ax.set_xticklabels(tick_lab);\n",
    "plt.xlabel('alpha');\n",
    "plt.ylabel('Par coupon rate');\n",
    "plt.title('Par rate vs Alpha for barrier RCNs');"
   ]
  },
  {
   "cell_type": "markdown",
   "id": "departmental-development",
   "metadata": {},
   "source": [
    "### 3)"
   ]
  },
  {
   "cell_type": "code",
   "execution_count": 120,
   "id": "greenhouse-transsexual",
   "metadata": {},
   "outputs": [],
   "source": [
    "a1 = 0\n",
    "rcn1_apar = RCN_binomial(r, period_length, initial_price, delta, U, D,\n",
    "                    payment_dates, coupon_rate, a1, Simple=True, Callable=False, barrier_level=None)\n",
    "l = (rcn1_apar.price_RCN() - 1)**2\n",
    "while np.sqrt(l) > .0001:\n",
    "    grad = (rcn1_apar.price_RCN() - 1)*2\n",
    "    a1 += .1 * grad\n",
    "    rcn1_apar = RCN_binomial(r, period_length, initial_price, delta, U, D,\n",
    "                    payment_dates, coupon_rate, a1, Simple=True, Callable=False, barrier_level=None)\n",
    "    l = (rcn1_apar.price_RCN() - 1)**2"
   ]
  },
  {
   "cell_type": "code",
   "execution_count": 121,
   "id": "seven-roots",
   "metadata": {
    "scrolled": false
   },
   "outputs": [
    {
     "data": {
      "text/plain": [
       "1.0000996099062107"
      ]
     },
     "execution_count": 121,
     "metadata": {},
     "output_type": "execute_result"
    }
   ],
   "source": [
    "rcn1_apar.price_RCN()"
   ]
  },
  {
   "cell_type": "code",
   "execution_count": 127,
   "id": "architectural-israel",
   "metadata": {},
   "outputs": [
    {
     "data": {
      "text/plain": [
       "1.0199301983798217"
      ]
     },
     "execution_count": 127,
     "metadata": {},
     "output_type": "execute_result"
    }
   ],
   "source": [
    "a1"
   ]
  },
  {
   "cell_type": "code",
   "execution_count": 118,
   "id": "rural-behalf",
   "metadata": {
    "scrolled": true
   },
   "outputs": [],
   "source": [
    "c_rates = np.linspace(0,.2,100)\n",
    "a_pars = []\n",
    "for c in c_rates:\n",
    "    a_par = 0\n",
    "    rcn1_apar_c = RCN_binomial(r, period_length, initial_price, delta, U, D,\n",
    "                    payment_dates, c, a_par, Simple=True, Callable=False, barrier_level=None)\n",
    "    # pseudo gradient descent with early stopping\n",
    "    l = (rcn1_apar_c.price_RCN()-1)**2\n",
    "    lr = .1\n",
    "    while np.sqrt(l) > .0001:\n",
    "        grad_out = 2*(rcn1_apar_c.price_RCN()-1)\n",
    "        a_par += lr*grad_out\n",
    "        rcn1_apar_c = RCN_binomial(r, period_length, initial_price, delta, U, D,\n",
    "                    payment_dates, c, a_par, Simple=True, Callable=False, barrier_level=None)\n",
    "        l = (rcn1_apar_c.price_RCN()-1)**2\n",
    "    a_pars.append(a_par)"
   ]
  },
  {
   "cell_type": "code",
   "execution_count": 115,
   "id": "prescribed-province",
   "metadata": {
    "scrolled": true
   },
   "outputs": [
    {
     "data": {
      "image/png": "[encoded data removed]",
      "text/plain": [
       "<Figure size 432x288 with 1 Axes>"
      ]
     },
     "metadata": {
      "needs_background": "light"
     },
     "output_type": "display_data"
    }
   ],
   "source": [
    "tick_loc = list(range(0,len(c_rates)+1,9))\n",
    "tick_lab = [round(c_rates[i],2) for i in tick_loc]\n",
    "fig, ax = plt.subplots()\n",
    "plt.plot(a_pars)\n",
    "ax.set_xticks(tick_loc);\n",
    "ax.set_xticklabels(tick_lab);\n",
    "plt.xlabel('Coupon rate');\n",
    "plt.ylabel('Par alpha');\n",
    "plt.title('Par alpha vs Coupon rate for Simple RCN');"
   ]
  },
  {
   "cell_type": "markdown",
   "id": "outdoor-messaging",
   "metadata": {},
   "source": [
    "### 4)"
   ]
  },
  {
   "cell_type": "code",
   "execution_count": 124,
   "id": "quick-combining",
   "metadata": {},
   "outputs": [],
   "source": [
    "a2 = 0\n",
    "rcn2_apar = RCN_binomial(r, period_length, initial_price, delta, U, D,\n",
    "                    payment_dates, coupon_rate, a2, Simple=False, Callable=False, barrier_level=barrier_level)\n",
    "rcn2_apar.set_barrier()\n",
    "l = (rcn2_apar.price_RCN() - 1)**2\n",
    "while np.sqrt(l) > .0001:\n",
    "    grad = (rcn2_apar.price_RCN() - 1)*2\n",
    "    a2 += .1 * grad\n",
    "    rcn2_apar = RCN_binomial(r, period_length, initial_price, delta, U, D,\n",
    "                    payment_dates, coupon_rate, a2, Simple=False, Callable=False, barrier_level=barrier_level)\n",
    "    rcn2_apar.set_barrier()\n",
    "    l = (rcn2_apar.price_RCN() - 1)**2"
   ]
  },
  {
   "cell_type": "code",
   "execution_count": 125,
   "id": "academic-motel",
   "metadata": {},
   "outputs": [
    {
     "data": {
      "text/plain": [
       "1.0000974476683058"
      ]
     },
     "execution_count": 125,
     "metadata": {},
     "output_type": "execute_result"
    }
   ],
   "source": [
    "rcn2_apar.price_RCN()"
   ]
  },
  {
   "cell_type": "code",
   "execution_count": 126,
   "id": "attended-thriller",
   "metadata": {
    "scrolled": true
   },
   "outputs": [
    {
     "data": {
      "text/plain": [
       "1.2392129118573822"
      ]
     },
     "execution_count": 126,
     "metadata": {},
     "output_type": "execute_result"
    }
   ],
   "source": [
    "a2"
   ]
  },
  {
   "cell_type": "code",
   "execution_count": 556,
   "id": "blond-granny",
   "metadata": {},
   "outputs": [
    {
     "data": {
      "text/plain": [
       "0.9980588131015673"
      ]
     },
     "execution_count": 556,
     "metadata": {},
     "output_type": "execute_result"
    }
   ],
   "source": [
    "c = 0.2\n",
    "a_par = 33.5 # ajuster par tatonnement pour arriver à un prix un poil en dessous de 1\n",
    "b = .6\n",
    "bar = RCN_binomial(r, period_length, initial_price, delta, U, D, payment_dates, c, a_par, Simple=False, Callable=False, barrier_level=b)\n",
    "bar.set_barrier()\n",
    "bar.price_RCN()"
   ]
  },
  {
   "cell_type": "code",
   "execution_count": 457,
   "id": "parliamentary-hebrew",
   "metadata": {},
   "outputs": [
    {
     "data": {
      "text/plain": [
       "array([0.  , 0.04, 0.08, 0.12, 0.16, 0.2 ])"
      ]
     },
     "execution_count": 457,
     "metadata": {},
     "output_type": "execute_result"
    }
   ],
   "source": [
    "np.linspace(0,.2,6)"
   ]
  },
  {
   "cell_type": "code",
   "execution_count": 565,
   "id": "lasting-architecture",
   "metadata": {},
   "outputs": [],
   "source": [
    "x = np.array([[0,1.8],\n",
    "[0.04,8.3],\n",
    "[0.08,14.6],\n",
    "[0.12,20.9],\n",
    "[0.16,27.1],\n",
    "[0.20,33.5]])"
   ]
  },
  {
   "cell_type": "code",
   "execution_count": 572,
   "id": "monetary-politics",
   "metadata": {},
   "outputs": [],
   "source": [
    "pf = np.polyfit(x[:,0],x[:,1],1)\n",
    "# fit polynomial du 2ème degré pour initialiser valeur de départ pour alpha"
   ]
  },
  {
   "cell_type": "code",
   "execution_count": 574,
   "id": "suburban-impact",
   "metadata": {
    "scrolled": true
   },
   "outputs": [],
   "source": [
    "# valeurs aberrantes de par alpha pour barrier avec beta = 0.6"
   ]
  },
  {
   "cell_type": "code",
   "execution_count": 571,
   "id": "republican-print",
   "metadata": {
    "scrolled": true
   },
   "outputs": [
    {
     "data": {
      "image/png": "[encoded data removed]",
      "text/plain": [
       "<Figure size 432x288 with 1 Axes>"
      ]
     },
     "metadata": {
      "needs_background": "light"
     },
     "output_type": "display_data"
    }
   ],
   "source": [
    "plt.plot(x[:,0],x[:,1]);\n",
    "plt.xlabel('coupon rate');\n",
    "plt.ylabel('approximate par-alpha');"
   ]
  },
  {
   "cell_type": "code",
   "execution_count": null,
   "id": "mental-kitty",
   "metadata": {},
   "outputs": [],
   "source": [
    "a_pars2 = {}"
   ]
  },
  {
   "cell_type": "code",
   "execution_count": 570,
   "id": "electric-edwards",
   "metadata": {
    "scrolled": true
   },
   "outputs": [
    {
     "name": "stdout",
     "output_type": "stream",
     "text": [
      "0.6000000000000001 0.0\n",
      "1.8464285714285777\n",
      "1.8463707760520396\n",
      "1.8463130546232134\n",
      "1.846255407047485\n",
      "1.8461978332303615\n",
      "1.8461403330774704\n",
      "1.84608290649456\n",
      "1.8460255533874999\n",
      "1.8459682736622791\n",
      "1.8459110672250076\n",
      "1.8458539339819156\n",
      "1.8457968738393526\n",
      "1.8457398867037886\n",
      "1.845682972481813\n",
      "1.8456261310801343\n",
      "1.8455693624055813\n",
      "1.8455126663651014\n",
      "1.845456042865761\n",
      "1.8453994918147454\n",
      "1.845343013119359\n",
      "1.845286606687025\n",
      "1.8452302724252843\n",
      "1.8451740102417964\n",
      "1.845117820044339\n",
      "1.845061701740808\n",
      "1.8450056552392167\n",
      "1.8449496804476966\n",
      "1.8448937772744964\n",
      "1.8448379456279822\n",
      "1.8447821854166375\n",
      "1.8447264965490628\n",
      "1.8446708789339756\n",
      "1.8446153324802104\n",
      "1.8445598570967177\n",
      "1.844504452692565\n",
      "1.844449119176936\n",
      "1.844393856459131\n",
      "1.8443386644485655\n",
      "1.8442835430547717\n",
      "1.844228492187397\n",
      "1.844173511756205\n",
      "1.844118601671074\n",
      "1.8440637618419982\n",
      "1.8440089921790868\n",
      "1.8439542925925638\n",
      "1.8438996629927686\n",
      "1.8438451032901546\n",
      "1.8437906133952904\n",
      "1.8437361932188585\n",
      "1.8436818426716561\n",
      "1.8436275616645945\n",
      "1.8435733501086986\n",
      "1.8435192079151077\n",
      "1.8434651349950741\n",
      "1.8434111312599644\n",
      "1.843357196621258\n",
      "1.8433033309905482\n",
      "1.8432495342795407\n",
      "1.8431958064000544\n",
      "1.8431421472640215\n",
      "1.843088556783486\n",
      "1.8430350348706055\n",
      "1.8429815814376491\n",
      "1.8429281963969986\n",
      "1.8428748796611476\n",
      "1.842821631142702\n",
      "1.8427684507543791\n",
      "1.8427153384090087\n",
      "1.8426622940195312\n",
      "1.8426093174989988\n",
      "1.842556408760575\n",
      "1.842503567717534\n",
      "1.8424507942832618\n",
      "1.8423980883712543\n",
      "1.8423454498951186\n",
      "1.8422928787685724\n",
      "1.8422403749054435\n",
      "1.84218793821967\n",
      "1.8421355686253\n",
      "1.842083266036492\n",
      "1.8420310303675143\n",
      "1.8419788615327444\n",
      "1.8419267594466695\n",
      "1.8418747240238866\n",
      "1.8418227551791018\n",
      "1.84177085282713\n",
      "1.8417190168828954\n",
      "1.841667247261431\n",
      "1.8416155438778785\n",
      "1.8415639066474883\n",
      "1.8415123354856189\n",
      "1.8414608303077376\n",
      "1.8414093910294191\n",
      "1.841358017566347\n",
      "1.8413067098343123\n",
      "1.841255467749214\n",
      "1.8412042912270579\n",
      "1.8411531801839585\n",
      "1.8411021345361367\n",
      "1.841051154199921\n",
      "1.841000239091747\n",
      "1.840949389128157\n",
      "1.8408986042258\n",
      "1.8408478843014318\n",
      "1.8407972292719148\n",
      "1.8407466390542178\n",
      "1.8406961135654156\n",
      "1.8406456527226893\n",
      "1.8405952564433259\n",
      "1.840544924644718\n",
      "1.8404946572443646\n",
      "1.8404444541598692\n",
      "1.8403943153089417\n",
      "1.8403442406093968\n",
      "1.8402942299791545\n",
      "1.8402442833362396\n",
      "1.840194400598782\n",
      "1.8401445816850164\n",
      "1.8400948265132817\n",
      "1.840045135002022\n",
      "1.839995507069785\n",
      "1.8399459426352234\n",
      "1.839896441617093\n",
      "1.8398470039342545\n",
      "1.8397976295056717\n",
      "1.8397483182504126\n",
      "1.8396990700876485\n",
      "1.8396498849366543\n",
      "1.8396007627168076\n",
      "1.83955170334759\n",
      "1.8395027067485858\n",
      "1.8394537728394817\n",
      "1.839404901540068\n",
      "1.8393560927702368\n",
      "1.8393073464499834\n",
      "1.839258662499405\n",
      "1.839210040838701\n",
      "1.8391614813881736\n",
      "1.839112984068226\n",
      "1.839064548799364\n",
      "1.8390161755021948\n",
      "1.838967864097427\n",
      "1.8389196145058708\n",
      "1.838871426648438\n",
      "1.8388233004461414\n",
      "1.8387752358200946\n",
      "1.8387272326915125\n",
      "1.8386792909817107\n",
      "1.8386314106121053\n",
      "1.8385835915042132\n",
      "1.8385358335796516\n",
      "1.8384881367601378\n",
      "1.8384405009674896\n",
      "1.8383929261236247\n",
      "1.8383454121505607\n",
      "1.838297958970415\n",
      "1.8382505665054043\n",
      "1.8382032346778454\n",
      "1.838155963410154\n",
      "1.8381087526248456\n",
      "1.8380616022445344\n",
      "1.8380145121919338\n",
      "1.837967482389856\n",
      "1.837920512761212\n",
      "1.8378736032290113\n",
      "1.837826753716362\n",
      "1.8377799641464707\n",
      "1.8377332344426422\n",
      "1.8376865645282796\n",
      "1.8376399543268835\n",
      "1.8375934037620527\n",
      "1.837546912757484\n",
      "1.837500481236971\n",
      "1.837454109124406\n",
      "1.8374077963437778\n",
      "1.8373615428191727\n",
      "1.8373153484747742\n",
      "1.8372692132348625\n",
      "1.837223137023815\n",
      "1.837177119766106\n",
      "1.837131161386306\n",
      "1.837085261809082\n",
      "1.837039420959198\n",
      "1.8369936387615138\n",
      "1.836947915140985\n",
      "1.8369022500226642\n",
      "1.836856643331699\n",
      "1.8368110949933332\n",
      "1.836765604932906\n",
      "1.8367201730758524\n",
      "1.8366747993477026\n",
      "1.8366294836740822\n",
      "1.8365842259807117\n",
      "1.8365390261934071\n",
      "1.8364938842380791\n",
      "1.8364488000407329\n",
      "1.8364037735274688\n",
      "1.8363588046244814\n",
      "1.8363138932580598\n",
      "1.8362690393545875\n",
      "1.8362242428405422\n",
      "1.8361795036424955\n",
      "1.836134821687113\n",
      "1.8360901969011543\n",
      "1.8360456292114724\n",
      "1.8360011185450142\n",
      "1.83595666482882\n",
      "1.835912267990023\n",
      "1.8358679279558505\n",
      "1.8358236446536222\n",
      "1.8357794180107512\n",
      "1.835735247954743\n",
      "1.8356911344131965\n",
      "1.8356470773138027\n",
      "1.8356030765843452\n",
      "1.8355591321527003\n",
      "1.835515243946836\n",
      "1.8354714118948134\n",
      "1.8354276359247848\n",
      "1.8353839159649947\n",
      "1.8353402519437796\n",
      "1.8352966437895673\n",
      "1.8352530914308773\n",
      "1.835209594796321\n",
      "1.8351661538146005\n",
      "1.8351227684145095\n",
      "1.835079438524933\n",
      "1.8350361640748463\n",
      "1.8349929449933162\n",
      "1.8349497812095\n",
      "1.8349066726526455\n",
      "1.8348636192520915\n",
      "1.8348206209372668\n",
      "1.8347776776376907\n",
      "1.8347347892829724\n",
      "1.8346919558028114\n",
      "1.8346491771269973\n",
      "1.8346064531854092\n",
      "1.834563783908016\n",
      "1.8345211692248764\n",
      "1.8344786090661382\n",
      "1.834436103362039\n",
      "1.8343936520429056\n",
      "1.8343512550391534\n",
      "1.8343089122812877\n",
      "1.834266623699902\n",
      "1.8342243892256789\n",
      "1.8341822087893898\n",
      "1.8341400823218943\n",
      "1.834098009754141\n",
      "1.8340559910171665\n",
      "1.8340140260420956\n",
      "1.8339721147601413\n",
      "1.8339302571026046\n",
      "1.8338884530008746\n",
      "1.8338467023864278\n",
      "1.8338050051908286\n",
      "1.833763361345729\n",
      "1.8337217707828684\n",
      "1.8336802334340736\n",
      "1.8336387492312585\n",
      "1.833597318106424\n",
      "1.8335559399916583\n",
      "1.8335146148191366\n",
      "1.8334733425211205\n",
      "1.8334321230299582\n",
      "1.8333909562780848\n",
      "1.8333498421980219\n",
      "1.8333087807223771\n",
      "1.8332677717838446\n",
      "1.8332268153152043\n",
      "1.833185911249322\n",
      "1.8331450595191503\n",
      "1.8331042600577268\n",
      "1.8330635127981747\n",
      "1.8330228176737033\n",
      "1.8329821746176072\n",
      "1.8329415835632659\n",
      "1.8329010444441447\n",
      "1.8328605571937937\n",
      "1.8328201217458482\n",
      "1.8327797380340283\n",
      "1.832739405992139\n",
      "1.8326991255540699\n",
      "1.832658896653795\n",
      "1.8326187192253736\n",
      "1.8325785932029484\n",
      "1.8325385185207466\n",
      "1.8324984951130798\n",
      "1.8324585229143437\n",
      "1.8324186018590176\n",
      "1.832378731881665\n",
      "1.8323389129169327\n",
      "1.8322991448995516\n",
      "1.8322594277643356\n",
      "1.8322197614461824\n",
      "1.8321801458800728\n",
      "1.832140581001071\n",
      "1.8321010667443238\n",
      "1.8320616030450618\n",
      "1.8320221898385978\n",
      "1.8319828270603273\n",
      "1.831943514645729\n",
      "1.8319042525303637\n",
      "1.8318650406498749\n",
      "1.8318258789399884\n",
      "1.831786767336512\n",
      "1.831747705775336\n",
      "1.8317086941924325\n",
      "1.8316697325238556\n",
      "1.8316308207057412\n",
      "1.8315919586743068\n",
      "1.8315531463658516\n",
      "1.8315143837167565\n",
      "1.8314756706634834\n",
      "1.8314370071425758\n",
      "1.8313983930906585\n",
      "1.831359828444437\n",
      "1.831321313140698\n",
      "1.831282847116309\n",
      "1.8312444303082183\n",
      "1.831206062653455\n",
      "1.8311677440891285\n",
      "1.8311294745524291\n",
      "1.831091253980627\n",
      "1.8310530823110729\n",
      "1.8310149594811977\n",
      "1.8309768854285122\n",
      "1.8309388600906074\n",
      "1.8309008834051537\n",
      "1.8308629553099016\n",
      "1.8308250757426812\n",
      "1.8307872446414022\n",
      "1.8307494619440536\n",
      "1.830711727588704\n",
      "1.8306740415135005\n",
      "1.8306364036566705\n",
      "1.8305988139565195\n",
      "1.8305612723514322\n",
      "1.8305237787798723\n",
      "1.8304863331803822\n",
      "1.8304489354915827\n",
      "1.8304115856521734\n",
      "1.8303742836009322\n",
      "1.8303370292767154\n",
      "1.8302998226184575\n",
      "1.830262663565171\n",
      "1.8302255520559467\n",
      "1.830188488029953\n",
      "1.8301514714264364\n",
      "1.8301145021847212\n",
      "1.8300775802442089\n",
      "1.830040705544379\n",
      "1.8300038780247883\n",
      "1.8299670976250708\n",
      "1.8299303642849378\n",
      "1.829893677944178\n",
      "1.8298570385426562\n",
      "1.8298204460203156\n",
      "1.8297839003171752\n",
      "1.829747401373331\n",
      "1.8297109491289558\n",
      "1.8296745435242987\n",
      "1.8296381844996854\n",
      "1.8296018719955178\n",
      "1.8295656059522742\n",
      "1.8295293863105093\n",
      "1.8294932130108534\n",
      "1.829457085994013\n",
      "1.8294210052007702\n",
      "1.8293849705719833\n",
      "1.8293489820485862\n",
      "1.829313039571588\n",
      "1.8292771430820736\n",
      "1.829241292521203\n",
      "1.8292054878302118\n",
      "1.8291697289504105\n",
      "1.8291340158231852\n",
      "1.8290983483899965\n",
      "1.82906272659238\n",
      "1.8290271503719462\n",
      "1.8289916196703802\n",
      "1.8289561344294416\n",
      "1.8289206945909648\n",
      "1.8288853000968588\n",
      "1.8288499508891063\n",
      "1.8288146469097646\n",
      "1.8287793881009653\n",
      "1.8287441744049135\n",
      "1.8287090057638888\n",
      "1.8286738821202446\n",
      "1.8286388034164076\n",
      "1.8286037695948787\n",
      "1.828568780598232\n"
     ]
    },
    {
     "ename": "KeyboardInterrupt",
     "evalue": "",
     "output_type": "error",
     "traceback": [
      "\u001b[1;31m---------------------------------------------------------------------------\u001b[0m",
      "\u001b[1;31mKeyboardInterrupt\u001b[0m                         Traceback (most recent call last)",
      "\u001b[1;32m<ipython-input-570-54a6c5c9adbb>\u001b[0m in \u001b[0;36m<module>\u001b[1;34m\u001b[0m\n\u001b[0;32m     18\u001b[0m                     payment_dates, c, a_par, Simple=False, Callable=False, barrier_level=b)\n\u001b[0;32m     19\u001b[0m         \u001b[0mrcn2_apar_c\u001b[0m\u001b[1;33m.\u001b[0m\u001b[0mset_barrier\u001b[0m\u001b[1;33m(\u001b[0m\u001b[1;33m)\u001b[0m\u001b[1;33m\u001b[0m\u001b[1;33m\u001b[0m\u001b[0m\n\u001b[1;32m---> 20\u001b[1;33m         \u001b[0ml\u001b[0m \u001b[1;33m=\u001b[0m \u001b[1;33m(\u001b[0m\u001b[0mrcn2_apar_c\u001b[0m\u001b[1;33m.\u001b[0m\u001b[0mprice_RCN\u001b[0m\u001b[1;33m(\u001b[0m\u001b[1;33m)\u001b[0m\u001b[1;33m-\u001b[0m\u001b[1;36m1\u001b[0m\u001b[1;33m)\u001b[0m\u001b[1;33m**\u001b[0m\u001b[1;36m2\u001b[0m\u001b[1;33m\u001b[0m\u001b[1;33m\u001b[0m\u001b[0m\n\u001b[0m\u001b[0;32m     21\u001b[0m     \u001b[1;32mif\u001b[0m \u001b[0mc\u001b[0m \u001b[1;33m==\u001b[0m \u001b[0mc_rates\u001b[0m\u001b[1;33m[\u001b[0m\u001b[1;36m0\u001b[0m\u001b[1;33m]\u001b[0m\u001b[1;33m:\u001b[0m\u001b[1;33m\u001b[0m\u001b[1;33m\u001b[0m\u001b[0m\n\u001b[0;32m     22\u001b[0m         \u001b[0ma_pars2\u001b[0m\u001b[1;33m[\u001b[0m\u001b[0mb\u001b[0m\u001b[1;33m]\u001b[0m \u001b[1;33m=\u001b[0m \u001b[1;33m[\u001b[0m\u001b[0ma_par\u001b[0m\u001b[1;33m]\u001b[0m\u001b[1;33m\u001b[0m\u001b[1;33m\u001b[0m\u001b[0m\n",
      "\u001b[1;32m~\\Documents\\EPFL\\FIN-404\\Project_1\\RCN.py\u001b[0m in \u001b[0;36mprice_RCN\u001b[1;34m(self)\u001b[0m\n\u001b[0;32m     99\u001b[0m \u001b[1;33m\u001b[0m\u001b[0m\n\u001b[0;32m    100\u001b[0m     \u001b[1;32mdef\u001b[0m \u001b[0mprice_RCN\u001b[0m\u001b[1;33m(\u001b[0m\u001b[0mself\u001b[0m\u001b[1;33m)\u001b[0m\u001b[1;33m:\u001b[0m\u001b[1;33m\u001b[0m\u001b[1;33m\u001b[0m\u001b[0m\n\u001b[1;32m--> 101\u001b[1;33m         \u001b[0mreplicating_initial_cashflow\u001b[0m \u001b[1;33m=\u001b[0m \u001b[0mself\u001b[0m\u001b[1;33m.\u001b[0m\u001b[0mprice_option\u001b[0m\u001b[1;33m(\u001b[0m\u001b[1;33m)\u001b[0m\u001b[1;33m/\u001b[0m\u001b[0mself\u001b[0m\u001b[1;33m.\u001b[0m\u001b[0mi0\u001b[0m \u001b[1;33m-\u001b[0m \u001b[0mself\u001b[0m\u001b[1;33m.\u001b[0m\u001b[0mprice_bonds\u001b[0m\u001b[1;33m(\u001b[0m\u001b[1;33m)\u001b[0m\u001b[1;33m\u001b[0m\u001b[1;33m\u001b[0m\u001b[0m\n\u001b[0m\u001b[0;32m    102\u001b[0m         \u001b[1;32mreturn\u001b[0m \u001b[1;33m-\u001b[0m\u001b[0mreplicating_initial_cashflow\u001b[0m\u001b[1;33m\u001b[0m\u001b[1;33m\u001b[0m\u001b[0m\n",
      "\u001b[1;32m~\\Documents\\EPFL\\FIN-404\\Project_1\\RCN.py\u001b[0m in \u001b[0;36mprice_option\u001b[1;34m(self, put)\u001b[0m\n\u001b[0;32m     85\u001b[0m             \u001b[1;31m# can't use Markov property with barrier\u001b[0m\u001b[1;33m\u001b[0m\u001b[1;33m\u001b[0m\u001b[1;33m\u001b[0m\u001b[0m\n\u001b[0;32m     86\u001b[0m             \u001b[0mP\u001b[0m \u001b[1;33m=\u001b[0m \u001b[0mnp\u001b[0m\u001b[1;33m.\u001b[0m\u001b[0mzeros\u001b[0m\u001b[1;33m(\u001b[0m\u001b[1;33m(\u001b[0m\u001b[1;36m2\u001b[0m\u001b[1;33m**\u001b[0m\u001b[0mself\u001b[0m\u001b[1;33m.\u001b[0m\u001b[0mT\u001b[0m\u001b[1;33m,\u001b[0m \u001b[0mself\u001b[0m\u001b[1;33m.\u001b[0m\u001b[0mT\u001b[0m\u001b[1;33m+\u001b[0m\u001b[1;36m1\u001b[0m\u001b[1;33m)\u001b[0m\u001b[1;33m)\u001b[0m\u001b[1;33m\u001b[0m\u001b[1;33m\u001b[0m\u001b[0m\n\u001b[1;32m---> 87\u001b[1;33m             \u001b[0mP\u001b[0m\u001b[1;33m[\u001b[0m\u001b[1;33m:\u001b[0m\u001b[1;33m,\u001b[0m\u001b[0mself\u001b[0m\u001b[1;33m.\u001b[0m\u001b[0mT\u001b[0m\u001b[1;33m]\u001b[0m \u001b[1;33m=\u001b[0m \u001b[0mself\u001b[0m\u001b[1;33m.\u001b[0m\u001b[0mterminal_payoffs\u001b[0m\u001b[1;33m(\u001b[0m\u001b[0mput\u001b[0m\u001b[1;33m)\u001b[0m\u001b[1;33m\u001b[0m\u001b[1;33m\u001b[0m\u001b[0m\n\u001b[0m\u001b[0;32m     88\u001b[0m             \u001b[1;32mfor\u001b[0m \u001b[0mj\u001b[0m \u001b[1;32min\u001b[0m \u001b[0mt\u001b[0m\u001b[1;33m:\u001b[0m\u001b[1;33m\u001b[0m\u001b[1;33m\u001b[0m\u001b[0m\n\u001b[0;32m     89\u001b[0m                 \u001b[1;32mfor\u001b[0m \u001b[0mi\u001b[0m \u001b[1;32min\u001b[0m \u001b[0mrange\u001b[0m\u001b[1;33m(\u001b[0m\u001b[1;36m2\u001b[0m\u001b[1;33m**\u001b[0m\u001b[0mj\u001b[0m\u001b[1;33m)\u001b[0m\u001b[1;33m:\u001b[0m\u001b[1;33m\u001b[0m\u001b[1;33m\u001b[0m\u001b[0m\n",
      "\u001b[1;32m~\\Documents\\EPFL\\FIN-404\\Project_1\\RCN.py\u001b[0m in \u001b[0;36mterminal_payoffs\u001b[1;34m(self, put)\u001b[0m\n\u001b[0;32m     53\u001b[0m                     \u001b[1;32melse\u001b[0m\u001b[1;33m:\u001b[0m\u001b[1;33m\u001b[0m\u001b[1;33m\u001b[0m\u001b[0m\n\u001b[0;32m     54\u001b[0m                         \u001b[0mP\u001b[0m\u001b[1;33m[\u001b[0m\u001b[0mi\u001b[0m\u001b[1;33m,\u001b[0m\u001b[0mj\u001b[0m\u001b[1;33m]\u001b[0m \u001b[1;33m=\u001b[0m \u001b[0mP\u001b[0m\u001b[1;33m[\u001b[0m\u001b[0mint\u001b[0m\u001b[1;33m(\u001b[0m\u001b[1;33m(\u001b[0m\u001b[0mi\u001b[0m\u001b[1;33m-\u001b[0m\u001b[1;36m1\u001b[0m\u001b[1;33m)\u001b[0m\u001b[1;33m/\u001b[0m\u001b[1;36m2\u001b[0m\u001b[1;33m)\u001b[0m\u001b[1;33m,\u001b[0m\u001b[0mj\u001b[0m\u001b[1;33m-\u001b[0m\u001b[1;36m1\u001b[0m\u001b[1;33m]\u001b[0m \u001b[1;33m*\u001b[0m \u001b[0mself\u001b[0m\u001b[1;33m.\u001b[0m\u001b[0mD\u001b[0m \u001b[1;33m*\u001b[0m \u001b[1;33m(\u001b[0m\u001b[1;36m1\u001b[0m \u001b[1;33m-\u001b[0m \u001b[0mself\u001b[0m\u001b[1;33m.\u001b[0m\u001b[0mdelta\u001b[0m\u001b[1;33m*\u001b[0m\u001b[0mself\u001b[0m\u001b[1;33m.\u001b[0m\u001b[0mDelta\u001b[0m\u001b[1;33m)\u001b[0m\u001b[1;33m\u001b[0m\u001b[1;33m\u001b[0m\u001b[0m\n\u001b[1;32m---> 55\u001b[1;33m                     \u001b[1;32mif\u001b[0m \u001b[0mj\u001b[0m \u001b[1;33m<\u001b[0m \u001b[0mself\u001b[0m\u001b[1;33m.\u001b[0m\u001b[0mT\u001b[0m\u001b[1;33m:\u001b[0m\u001b[1;33m\u001b[0m\u001b[1;33m\u001b[0m\u001b[0m\n\u001b[0m\u001b[0;32m     56\u001b[0m                         \u001b[1;32mif\u001b[0m \u001b[1;32mnot\u001b[0m \u001b[0mB\u001b[0m\u001b[1;33m[\u001b[0m\u001b[0mi\u001b[0m\u001b[1;33m,\u001b[0m\u001b[0mj\u001b[0m\u001b[1;33m]\u001b[0m\u001b[1;33m:\u001b[0m \u001b[1;31m# if not already True, check price and barrier\u001b[0m\u001b[1;33m\u001b[0m\u001b[1;33m\u001b[0m\u001b[0m\n\u001b[0;32m     57\u001b[0m                             \u001b[1;32mif\u001b[0m \u001b[0mP\u001b[0m\u001b[1;33m[\u001b[0m\u001b[0mi\u001b[0m\u001b[1;33m,\u001b[0m\u001b[0mj\u001b[0m\u001b[1;33m]\u001b[0m \u001b[1;33m<=\u001b[0m \u001b[0mself\u001b[0m\u001b[1;33m.\u001b[0m\u001b[0mbarrier\u001b[0m\u001b[1;33m:\u001b[0m \u001b[1;31m# change to True and \"propagate\" True to next direct nodes\u001b[0m\u001b[1;33m\u001b[0m\u001b[1;33m\u001b[0m\u001b[0m\n",
      "\u001b[1;31mKeyboardInterrupt\u001b[0m: "
     ]
    }
   ],
   "source": [
    "bar = np.delete(barrier_levels, 0)\n",
    "b = barrier_levels[1]\n",
    "#for b in bar:\n",
    "for c in c_rates:\n",
    "    print(b,c)\n",
    "    a_par = pf[0]*(c**2) + pf[1]*c + pf[2]\n",
    "    rcn2_apar_c = RCN_binomial(r, period_length, initial_price, delta, U, D,\n",
    "                    payment_dates, c, a_par, Simple=False, Callable=False, barrier_level=b)\n",
    "    rcn2_apar_c.set_barrier()\n",
    "    # pseudo gradient descent with early stopping\n",
    "    l = (rcn2_apar_c.price_RCN()-1)**2\n",
    "    lr = .1\n",
    "    while np.sqrt(l) > .0001:\n",
    "        print(a_par)\n",
    "        grad = (rcn2_apar_c.price_RCN()-1)*2\n",
    "        a_par += lr*grad\n",
    "        rcn2_apar_c = RCN_binomial(r, period_length, initial_price, delta, U, D,\n",
    "                    payment_dates, c, a_par, Simple=False, Callable=False, barrier_level=b)\n",
    "        rcn2_apar_c.set_barrier()\n",
    "        l = (rcn2_apar_c.price_RCN()-1)**2\n",
    "    if c == c_rates[0]:\n",
    "        a_pars2[b] = [a_par]\n",
    "    else:\n",
    "        a_pars2[b].append(a_par)"
   ]
  },
  {
   "cell_type": "code",
   "execution_count": 494,
   "id": "powerful-hydrogen",
   "metadata": {},
   "outputs": [
    {
     "data": {
      "image/png": "[encoded data removed]",
      "text/plain": [
       "<Figure size 432x288 with 1 Axes>"
      ]
     },
     "metadata": {
      "needs_background": "light"
     },
     "output_type": "display_data"
    }
   ],
   "source": [
    "plt.plot(a_pars2[barrier_levels[3]], label = 'beta = '+str(round(barrier_levels[3],2)));\n",
    "plt.plot(a_pars2[barrier_levels[2]], label = 'beta = '+str(round(barrier_levels[2],2)));\n",
    "plt.legend();"
   ]
  }
 ],
 "metadata": {
  "kernelspec": {
   "display_name": "Python 3",
   "language": "python",
   "name": "python3"
  },
  "language_info": {
   "codemirror_mode": {
    "name": "ipython",
    "version": 3
   },
   "file_extension": ".py",
   "mimetype": "text/x-python",
   "name": "python",
   "nbconvert_exporter": "python",
   "pygments_lexer": "ipython3",
   "version": "3.8.8"
  }
 },
 "nbformat": 4,
 "nbformat_minor": 5
}
