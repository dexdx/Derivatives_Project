{
 "cells": [
  {
   "cell_type": "code",
   "execution_count": 3,
   "id": "beginning-development",
   "metadata": {},
   "outputs": [],
   "source": [
    "from RCN import *\n",
    "import numpy as np"
   ]
  },
  {
   "cell_type": "code",
   "execution_count": 2,
   "id": "conscious-marble",
   "metadata": {},
   "outputs": [],
   "source": [
    "# calibrated parameters\n",
    "r = -0.007801729853464256\n",
    "delta = 0.02720239796079839\n",
    "U = 1.054699999999994\n",
    "D = 0.9440001342869291"
   ]
  },
  {
   "cell_type": "markdown",
   "id": "juvenile-inspector",
   "metadata": {},
   "source": [
    "### 1)\n",
    "#### i)"
   ]
  },
  {
   "cell_type": "code",
   "execution_count": 5,
   "id": "packed-institute",
   "metadata": {},
   "outputs": [],
   "source": [
    "payment_dates = np.arange(1,13)\n",
    "period_length = 1/12\n",
    "coupon_rate = 0.10\n",
    "initial_price = 11118\n",
    "exercise_price = 1"
   ]
  },
  {
   "cell_type": "code",
   "execution_count": 6,
   "id": "compact-newspaper",
   "metadata": {},
   "outputs": [],
   "source": [
    "rcn1 = RCN_binomial(r, period_length, initial_price, delta, U, D,\n",
    "                    payment_dates, coupon_rate, exercise_price, Simple=True, Callable=False, barrier_level=None)"
   ]
  },
  {
   "cell_type": "code",
   "execution_count": 10,
   "id": "homeless-california",
   "metadata": {
    "scrolled": true
   },
   "outputs": [
    {
     "data": {
      "text/plain": [
       "1.0124083511877382"
      ]
     },
     "execution_count": 10,
     "metadata": {},
     "output_type": "execute_result"
    }
   ],
   "source": [
    "rcn1.price_RCN()"
   ]
  },
  {
   "cell_type": "markdown",
   "id": "stopped-armenia",
   "metadata": {},
   "source": [
    "#### ii)"
   ]
  },
  {
   "cell_type": "code",
   "execution_count": 12,
   "id": "dietary-creativity",
   "metadata": {},
   "outputs": [],
   "source": [
    "barrier_level = 0.8\n",
    "rcn2 = RCN_binomial(r, period_length, initial_price, delta, U, D,\n",
    "                    payment_dates, coupon_rate, exercise_price, Simple=False, Callable=False, barrier_level=barrier_level)"
   ]
  },
  {
   "cell_type": "code",
   "execution_count": 16,
   "id": "purple-power",
   "metadata": {},
   "outputs": [
    {
     "data": {
      "text/plain": [
       "1.0544990135271406"
      ]
     },
     "execution_count": 16,
     "metadata": {},
     "output_type": "execute_result"
    }
   ],
   "source": [
    "rcn2.set_barrier()\n",
    "rcn2.price_RCN()"
   ]
  }
 ],
 "metadata": {
  "kernelspec": {
   "display_name": "Python 3",
   "language": "python",
   "name": "python3"
  },
  "language_info": {
   "codemirror_mode": {
    "name": "ipython",
    "version": 3
   },
   "file_extension": ".py",
   "mimetype": "text/x-python",
   "name": "python",
   "nbconvert_exporter": "python",
   "pygments_lexer": "ipython3",
   "version": "3.8.8"
  }
 },
 "nbformat": 4,
 "nbformat_minor": 5
}
