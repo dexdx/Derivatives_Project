{
 "cells": [
  {
   "cell_type": "code",
   "execution_count": 1,
   "id": "beginning-development",
   "metadata": {},
   "outputs": [],
   "source": [
    "from RCN import *\n",
    "import numpy as np\n",
    "import matplotlib.pyplot as plt\n",
    "import json"
   ]
  },
  {
   "cell_type": "code",
   "execution_count": 2,
   "id": "conscious-marble",
   "metadata": {},
   "outputs": [],
   "source": [
    "# calibrated parameters from part_4.ipynb\n",
    "r = -0.007801729853464256\n",
    "delta = 0.02720239796079839\n",
    "U = 1.054699999999994\n",
    "D = 0.9440001342869291"
   ]
  },
  {
   "cell_type": "markdown",
   "id": "accepted-macintosh",
   "metadata": {},
   "source": [
    "### 1)\n",
    "#### i)"
   ]
  },
  {
   "cell_type": "code",
   "execution_count": 3,
   "id": "artificial-prescription",
   "metadata": {},
   "outputs": [],
   "source": [
    "payment_dates = np.arange(1,13)\n",
    "period_length = 1/12\n",
    "coupon_rate = 0.10\n",
    "initial_price = 11118\n",
    "exercise_price = 1"
   ]
  },
  {
   "cell_type": "code",
   "execution_count": 4,
   "id": "viral-secret",
   "metadata": {},
   "outputs": [],
   "source": [
    "rcn1 = RCN_binomial(r, period_length, initial_price, delta, U, D,\n",
    "                    payment_dates, coupon_rate, exercise_price, Simple=True, Callable=False, barrier_level=None)"
   ]
  },
  {
   "cell_type": "code",
   "execution_count": 5,
   "id": "breeding-silence",
   "metadata": {
    "scrolled": true
   },
   "outputs": [
    {
     "data": {
      "text/plain": [
       "1.0124083511877382"
      ]
     },
     "execution_count": 5,
     "metadata": {},
     "output_type": "execute_result"
    }
   ],
   "source": [
    "rcn1.price_RCN()"
   ]
  },
  {
   "cell_type": "markdown",
   "id": "moral-sharing",
   "metadata": {},
   "source": [
    "#### ii)"
   ]
  },
  {
   "cell_type": "code",
   "execution_count": 6,
   "id": "selected-strengthening",
   "metadata": {},
   "outputs": [],
   "source": [
    "barrier_level = 0.8\n",
    "rcn2 = RCN_binomial(r, period_length, initial_price, delta, U, D,\n",
    "                    payment_dates, coupon_rate, exercise_price, Simple=False, Callable=False, barrier_level=barrier_level)"
   ]
  },
  {
   "cell_type": "code",
   "execution_count": 7,
   "id": "accepting-encyclopedia",
   "metadata": {},
   "outputs": [
    {
     "data": {
      "text/plain": [
       "1.0544990135271406"
      ]
     },
     "execution_count": 7,
     "metadata": {},
     "output_type": "execute_result"
    }
   ],
   "source": [
    "rcn2.set_barrier()\n",
    "rcn2.price_RCN()"
   ]
  },
  {
   "cell_type": "markdown",
   "id": "united-reset",
   "metadata": {},
   "source": [
    "### 2)"
   ]
  },
  {
   "cell_type": "code",
   "execution_count": 8,
   "id": "impressed-championship",
   "metadata": {},
   "outputs": [],
   "source": [
    "par_rate1 = 0\n",
    "rcn1_par = RCN_binomial(r, period_length, initial_price, delta, U, D,\n",
    "                       payment_dates, par_rate1, exercise_price, Simple=True, Callable=False, barrier_level=None)\n",
    "while np.abs(rcn1_par.price_RCN() - 1) > .001:\n",
    "    par_rate1 += .001\n",
    "    rcn1_par = RCN_binomial(r, period_length, initial_price, delta, U, D,\n",
    "                           payment_dates, par_rate1, exercise_price, Simple=True, Callable=False, barrier_level=None)"
   ]
  },
  {
   "cell_type": "code",
   "execution_count": 9,
   "id": "renewable-taylor",
   "metadata": {},
   "outputs": [
    {
     "data": {
      "text/plain": [
       "0.08700000000000006"
      ]
     },
     "execution_count": 9,
     "metadata": {},
     "output_type": "execute_result"
    }
   ],
   "source": [
    "par_rate1"
   ]
  },
  {
   "cell_type": "code",
   "execution_count": 10,
   "id": "restricted-sessions",
   "metadata": {},
   "outputs": [
    {
     "data": {
      "text/plain": [
       "1.0"
      ]
     },
     "execution_count": 10,
     "metadata": {},
     "output_type": "execute_result"
    }
   ],
   "source": [
    "round(rcn1_par.price_RCN(),2)"
   ]
  },
  {
   "cell_type": "code",
   "execution_count": 11,
   "id": "ruled-bosnia",
   "metadata": {},
   "outputs": [],
   "source": [
    "par_rate2 = 0\n",
    "rcn2_par = RCN_binomial(r, period_length, initial_price, delta, U, D,\n",
    "                       payment_dates, par_rate2, exercise_price, Simple=False, Callable=False, barrier_level=barrier_level)\n",
    "rcn2_par.set_barrier()\n",
    "while np.abs(rcn2_par.price_RCN() - 1) > .001:\n",
    "    par_rate2 += .001\n",
    "    rcn2_par = RCN_binomial(r, period_length, initial_price, delta, U, D,\n",
    "                       payment_dates, par_rate2, exercise_price, Simple=False, Callable=False, barrier_level=barrier_level)\n",
    "    rcn2_par.set_barrier()"
   ]
  },
  {
   "cell_type": "code",
   "execution_count": 12,
   "id": "important-sampling",
   "metadata": {},
   "outputs": [
    {
     "data": {
      "text/plain": [
       "0.04500000000000003"
      ]
     },
     "execution_count": 12,
     "metadata": {},
     "output_type": "execute_result"
    }
   ],
   "source": [
    "par_rate2"
   ]
  },
  {
   "cell_type": "code",
   "execution_count": 13,
   "id": "violent-exercise",
   "metadata": {},
   "outputs": [
    {
     "data": {
      "text/plain": [
       "1.0"
      ]
     },
     "execution_count": 13,
     "metadata": {},
     "output_type": "execute_result"
    }
   ],
   "source": [
    "round(rcn2_par.price_RCN(),2)"
   ]
  },
  {
   "cell_type": "code",
   "execution_count": 14,
   "id": "injured-dining",
   "metadata": {},
   "outputs": [],
   "source": [
    "barrier_levels = np.arange(.4,1.2,.2)\n",
    "strikes = np.linspace(.5,1.5)"
   ]
  },
  {
   "cell_type": "code",
   "execution_count": 15,
   "id": "consistent-exposure",
   "metadata": {},
   "outputs": [],
   "source": [
    "par_simple = []\n",
    "par_barrier = {}"
   ]
  },
  {
   "cell_type": "code",
   "execution_count": 16,
   "id": "accredited-norman",
   "metadata": {},
   "outputs": [],
   "source": [
    "for s in strikes:\n",
    "    par = -.10\n",
    "    simple = RCN_binomial(r, period_length, initial_price, delta, U, D,\n",
    "                          payment_dates, par, s, Simple=True, Callable=False, barrier_level=None)\n",
    "    while np.abs(simple.price_RCN() - 1) > .001:\n",
    "        par += .001\n",
    "        simple = RCN_binomial(r, period_length, initial_price, delta, U, D,\n",
    "                              payment_dates, par, s, Simple=True, Callable=False, barrier_level=None)\n",
    "    par_simple.append(par)"
   ]
  },
  {
   "cell_type": "code",
   "execution_count": 17,
   "id": "compliant-pencil",
   "metadata": {
    "scrolled": true
   },
   "outputs": [
    {
     "data": {
      "text/plain": [
       "'\\nfor b in barrier_levels:\\n    for s in strikes:\\n        print(b,s)\\n        par = -.10\\n        barrier = RCN_binomial(r, period_length, initial_price, delta, U, D,\\n                  payment_dates, par, s, Simple=False, Callable=False, barrier_level=b)\\n        barrier.set_barrier()\\n        while np.abs(barrier.price_RCN() - 1) > .001:\\n            par += .001\\n            barrier = RCN_binomial(r, period_length, initial_price, delta, U, D,\\n                      payment_dates, par, s, Simple=False, Callable=False, barrier_level=b)\\n            barrier.set_barrier()\\n        if s == strikes[0]:\\n            par_barrier[b] = [par]\\n        else:\\n            par_barrier[b].append(par)\\n'"
      ]
     },
     "execution_count": 17,
     "metadata": {},
     "output_type": "execute_result"
    }
   ],
   "source": [
    "\"\"\"\n",
    "for b in barrier_levels:\n",
    "    for s in strikes:\n",
    "        print(b,s)\n",
    "        par = -.10\n",
    "        barrier = RCN_binomial(r, period_length, initial_price, delta, U, D,\n",
    "                  payment_dates, par, s, Simple=False, Callable=False, barrier_level=b)\n",
    "        barrier.set_barrier()\n",
    "        while np.abs(barrier.price_RCN() - 1) > .001:\n",
    "            par += .001\n",
    "            barrier = RCN_binomial(r, period_length, initial_price, delta, U, D,\n",
    "                      payment_dates, par, s, Simple=False, Callable=False, barrier_level=b)\n",
    "            barrier.set_barrier()\n",
    "        if s == strikes[0]:\n",
    "            par_barrier[b] = [par]\n",
    "        else:\n",
    "            par_barrier[b].append(par)\n",
    "\"\"\""
   ]
  },
  {
   "cell_type": "code",
   "execution_count": 18,
   "id": "executive-juice",
   "metadata": {},
   "outputs": [],
   "source": [
    "# block above takes more time to execute, save output to avoid running again\n",
    "\"\"\"\n",
    "with open('par_barrier.json', 'w') as f:\n",
    "    json.dump(par_barrier, f)\n",
    "\"\"\"\n",
    "f = open('par_barrier.json',)\n",
    "par_barrier = json.load(f)"
   ]
  },
  {
   "cell_type": "code",
   "execution_count": 19,
   "id": "manufactured-deputy",
   "metadata": {},
   "outputs": [],
   "source": [
    "tick_loc = list(range(0,len(strikes)+1,9))\n",
    "tick_lab = [round(strikes[i],2) for i in tick_loc]"
   ]
  },
  {
   "cell_type": "code",
   "execution_count": 44,
   "id": "bulgarian-velvet",
   "metadata": {},
   "outputs": [
    {
     "data": {
      "image/png": "[encoded data removed]",
      "text/plain": [
       "<Figure size 432x288 with 1 Axes>"
      ]
     },
     "metadata": {
      "needs_background": "light"
     },
     "output_type": "display_data"
    }
   ],
   "source": [
    "fig, ax = plt.subplots()\n",
    "plt.plot(par_simple)\n",
    "ax.set_xticks(tick_loc);\n",
    "ax.set_xticklabels(tick_lab);\n",
    "plt.xlabel('alpha');\n",
    "plt.ylabel('Par coupon rate');\n",
    "plt.title('Par rate vs Alpha for simple RCN');"
   ]
  },
  {
   "cell_type": "code",
   "execution_count": 43,
   "id": "grateful-torture",
   "metadata": {
    "scrolled": true
   },
   "outputs": [
    {
     "data": {
      "image/png": "[encoded data removed]",
      "text/plain": [
       "<Figure size 432x288 with 1 Axes>"
      ]
     },
     "metadata": {
      "needs_background": "light"
     },
     "output_type": "display_data"
    }
   ],
   "source": [
    "fig, ax = plt.subplots()\n",
    "for i in range(len(par_barrier)):\n",
    "    ax.plot(par_barrier[str(barrier_levels[i])], label = 'beta = '+str(round(barrier_levels[i],2)))\n",
    "plt.legend()\n",
    "ax.set_xticks(tick_loc);\n",
    "ax.set_xticklabels(tick_lab);\n",
    "plt.xlabel('alpha');\n",
    "plt.ylabel('Par coupon rate');\n",
    "plt.title('Par rate vs Alpha for barrier RCNs');"
   ]
  },
  {
   "cell_type": "markdown",
   "id": "particular-reviewer",
   "metadata": {},
   "source": [
    "### 3)"
   ]
  },
  {
   "cell_type": "code",
   "execution_count": 59,
   "id": "varied-flashing",
   "metadata": {},
   "outputs": [],
   "source": [
    "a1 = 0\n",
    "rcn1_apar = RCN_binomial(r, period_length, initial_price, delta, U, D,\n",
    "                    payment_dates, coupon_rate, a1, Simple=True, Callable=False, barrier_level=None)\n",
    "while np.abs(rcn1_apar.price_RCN() - 1) > .0001:\n",
    "    a1 += .001\n",
    "    rcn1_apar = RCN_binomial(r, period_length, initial_price, delta, U, D,\n",
    "                    payment_dates, coupon_rate, a1, Simple=True, Callable=False, barrier_level=None)"
   ]
  },
  {
   "cell_type": "code",
   "execution_count": 60,
   "id": "suspected-minister",
   "metadata": {
    "scrolled": true
   },
   "outputs": [
    {
     "data": {
      "text/plain": [
       "1.000056500948266"
      ]
     },
     "execution_count": 60,
     "metadata": {},
     "output_type": "execute_result"
    }
   ],
   "source": [
    "rcn1_apar.price_RCN()"
   ]
  },
  {
   "cell_type": "code",
   "execution_count": 78,
   "id": "descending-background",
   "metadata": {
    "scrolled": false
   },
   "outputs": [
    {
     "name": "stdout",
     "output_type": "stream",
     "text": [
      "0.0\n",
      "0.00202020202020202\n",
      "0.00404040404040404\n",
      "0.006060606060606061\n",
      "0.00808080808080808\n",
      "0.0101010101010101\n",
      "0.012121212121212121\n",
      "0.014141414141414142\n",
      "0.01616161616161616\n",
      "0.01818181818181818\n"
     ]
    },
    {
     "ename": "KeyboardInterrupt",
     "evalue": "",
     "output_type": "error",
     "traceback": [
      "\u001b[1;31m---------------------------------------------------------------------------\u001b[0m",
      "\u001b[1;31mKeyboardInterrupt\u001b[0m                         Traceback (most recent call last)",
      "\u001b[1;32m<ipython-input-78-71e923ea0086>\u001b[0m in \u001b[0;36m<module>\u001b[1;34m\u001b[0m\n\u001b[0;32m      6\u001b[0m     rcn1_apar_c = RCN_binomial(r, period_length, initial_price, delta, U, D,\n\u001b[0;32m      7\u001b[0m                     payment_dates, c, a_par, Simple=True, Callable=False, barrier_level=None)\n\u001b[1;32m----> 8\u001b[1;33m     \u001b[1;32mwhile\u001b[0m \u001b[0mnp\u001b[0m\u001b[1;33m.\u001b[0m\u001b[0mabs\u001b[0m\u001b[1;33m(\u001b[0m\u001b[0mrcn1_apar_c\u001b[0m\u001b[1;33m.\u001b[0m\u001b[0mprice_RCN\u001b[0m\u001b[1;33m(\u001b[0m\u001b[1;33m)\u001b[0m \u001b[1;33m-\u001b[0m \u001b[1;36m1\u001b[0m\u001b[1;33m)\u001b[0m \u001b[1;33m>\u001b[0m \u001b[1;36m.0001\u001b[0m\u001b[1;33m:\u001b[0m\u001b[1;33m\u001b[0m\u001b[1;33m\u001b[0m\u001b[0m\n\u001b[0m\u001b[0;32m      9\u001b[0m         \u001b[0ma_par\u001b[0m \u001b[1;33m+=\u001b[0m \u001b[1;36m.001\u001b[0m\u001b[1;33m\u001b[0m\u001b[1;33m\u001b[0m\u001b[0m\n\u001b[0;32m     10\u001b[0m         rcn1_apar_c = RCN_binomial(r, period_length, initial_price, delta, U, D,\n",
      "\u001b[1;32m~\\Documents\\EPFL\\FIN-404\\Project_1\\RCN.py\u001b[0m in \u001b[0;36mprice_RCN\u001b[1;34m(self)\u001b[0m\n\u001b[0;32m     99\u001b[0m \u001b[1;33m\u001b[0m\u001b[0m\n\u001b[0;32m    100\u001b[0m     \u001b[1;32mdef\u001b[0m \u001b[0mprice_RCN\u001b[0m\u001b[1;33m(\u001b[0m\u001b[0mself\u001b[0m\u001b[1;33m)\u001b[0m\u001b[1;33m:\u001b[0m\u001b[1;33m\u001b[0m\u001b[1;33m\u001b[0m\u001b[0m\n\u001b[1;32m--> 101\u001b[1;33m         \u001b[0mreplicating_initial_cashflow\u001b[0m \u001b[1;33m=\u001b[0m \u001b[0mself\u001b[0m\u001b[1;33m.\u001b[0m\u001b[0mprice_option\u001b[0m\u001b[1;33m(\u001b[0m\u001b[1;33m)\u001b[0m\u001b[1;33m/\u001b[0m\u001b[0mself\u001b[0m\u001b[1;33m.\u001b[0m\u001b[0mi0\u001b[0m \u001b[1;33m-\u001b[0m \u001b[0mself\u001b[0m\u001b[1;33m.\u001b[0m\u001b[0mprice_bonds\u001b[0m\u001b[1;33m(\u001b[0m\u001b[1;33m)\u001b[0m\u001b[1;33m\u001b[0m\u001b[1;33m\u001b[0m\u001b[0m\n\u001b[0m\u001b[0;32m    102\u001b[0m         \u001b[1;32mreturn\u001b[0m \u001b[1;33m-\u001b[0m\u001b[0mreplicating_initial_cashflow\u001b[0m\u001b[1;33m\u001b[0m\u001b[1;33m\u001b[0m\u001b[0m\n",
      "\u001b[1;32m~\\Documents\\EPFL\\FIN-404\\Project_1\\RCN.py\u001b[0m in \u001b[0;36mprice_option\u001b[1;34m(self, put)\u001b[0m\n\u001b[0;32m     73\u001b[0m         \u001b[1;32mif\u001b[0m \u001b[0mself\u001b[0m\u001b[1;33m.\u001b[0m\u001b[0mq\u001b[0m \u001b[1;33m<=\u001b[0m \u001b[1;36m0\u001b[0m \u001b[1;32mor\u001b[0m \u001b[0mself\u001b[0m\u001b[1;33m.\u001b[0m\u001b[0mq\u001b[0m \u001b[1;33m>=\u001b[0m \u001b[1;36m1\u001b[0m\u001b[1;33m:\u001b[0m\u001b[1;33m\u001b[0m\u001b[1;33m\u001b[0m\u001b[0m\n\u001b[0;32m     74\u001b[0m             \u001b[1;32mreturn\u001b[0m\u001b[1;33m\u001b[0m\u001b[1;33m\u001b[0m\u001b[0m\n\u001b[1;32m---> 75\u001b[1;33m         \u001b[0mt\u001b[0m \u001b[1;33m=\u001b[0m \u001b[0mnp\u001b[0m\u001b[1;33m.\u001b[0m\u001b[0marange\u001b[0m\u001b[1;33m(\u001b[0m\u001b[0mself\u001b[0m\u001b[1;33m.\u001b[0m\u001b[0mT\u001b[0m\u001b[1;33m-\u001b[0m\u001b[1;36m1\u001b[0m\u001b[1;33m,\u001b[0m\u001b[1;33m-\u001b[0m\u001b[1;36m1\u001b[0m\u001b[1;33m,\u001b[0m\u001b[1;33m-\u001b[0m\u001b[1;36m1\u001b[0m\u001b[1;33m)\u001b[0m\u001b[1;33m\u001b[0m\u001b[1;33m\u001b[0m\u001b[0m\n\u001b[0m\u001b[0;32m     76\u001b[0m         \u001b[1;32mif\u001b[0m \u001b[0mself\u001b[0m\u001b[1;33m.\u001b[0m\u001b[0msimple\u001b[0m\u001b[1;33m:\u001b[0m\u001b[1;33m\u001b[0m\u001b[1;33m\u001b[0m\u001b[0m\n\u001b[0;32m     77\u001b[0m             \u001b[1;31m# with Markov propoerty\u001b[0m\u001b[1;33m\u001b[0m\u001b[1;33m\u001b[0m\u001b[1;33m\u001b[0m\u001b[0m\n",
      "\u001b[1;31mKeyboardInterrupt\u001b[0m: "
     ]
    }
   ],
   "source": [
    "c_rates = np.linspace(0,.2,100)\n",
    "a_pars = []\n",
    "for c in c_rates:\n",
    "    print(c)\n",
    "    a_par = 0\n",
    "    rcn1_apar_c = RCN_binomial(r, period_length, initial_price, delta, U, D,\n",
    "                    payment_dates, c, a_par, Simple=True, Callable=False, barrier_level=None)\n",
    "    e = (rcn1_apar_c.price_RCN()-1)**2\n",
    "    while e > .0001:\n",
    "        a_par += .001\n",
    "        rcn1_apar_c = RCN_binomial(r, period_length, initial_price, delta, U, D,\n",
    "                    payment_dates, c, a_par, Simple=True, Callable=False, barrier_level=None)\n",
    "    a_pars.append(a_par)"
   ]
  },
  {
   "cell_type": "code",
   "execution_count": 74,
   "id": "indirect-administrator",
   "metadata": {},
   "outputs": [],
   "source": [
    "a_par = .9\n",
    "rcn1_apar_c = RCN_binomial(r, period_length, initial_price, delta, U, D,\n",
    "                    payment_dates, 0.018090452261306535, a_par, Simple=True, Callable=False, barrier_level=None)"
   ]
  },
  {
   "cell_type": "code",
   "execution_count": 75,
   "id": "designing-residence",
   "metadata": {
    "scrolled": true
   },
   "outputs": [
    {
     "data": {
      "text/plain": [
       "0.9810127196309063"
      ]
     },
     "execution_count": 75,
     "metadata": {},
     "output_type": "execute_result"
    }
   ],
   "source": [
    "rcn1_apar_c.price_RCN()"
   ]
  }
 ],
 "metadata": {
  "kernelspec": {
   "display_name": "Python 3",
   "language": "python",
   "name": "python3"
  },
  "language_info": {
   "codemirror_mode": {
    "name": "ipython",
    "version": 3
   },
   "file_extension": ".py",
   "mimetype": "text/x-python",
   "name": "python",
   "nbconvert_exporter": "python",
   "pygments_lexer": "ipython3",
   "version": "3.8.8"
  }
 },
 "nbformat": 4,
 "nbformat_minor": 5
}
