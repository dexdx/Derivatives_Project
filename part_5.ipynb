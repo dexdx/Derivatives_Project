{
 "cells": [
  {
   "cell_type": "code",
   "execution_count": 106,
   "id": "beginning-development",
   "metadata": {},
   "outputs": [],
   "source": [
    "from RCN import *\n",
    "import numpy as np\n",
    "import matplotlib.pyplot as plt"
   ]
  },
  {
   "cell_type": "code",
   "execution_count": 2,
   "id": "conscious-marble",
   "metadata": {},
   "outputs": [],
   "source": [
    "# calibrated parameters\n",
    "r = -0.007801729853464256\n",
    "delta = 0.02720239796079839\n",
    "U = 1.054699999999994\n",
    "D = 0.9440001342869291"
   ]
  },
  {
   "cell_type": "markdown",
   "id": "human-revelation",
   "metadata": {},
   "source": [
    "### 1)\n",
    "#### i)"
   ]
  },
  {
   "cell_type": "code",
   "execution_count": 5,
   "id": "portable-showcase",
   "metadata": {},
   "outputs": [],
   "source": [
    "payment_dates = np.arange(1,13)\n",
    "period_length = 1/12\n",
    "coupon_rate = 0.10\n",
    "initial_price = 11118\n",
    "exercise_price = 1"
   ]
  },
  {
   "cell_type": "code",
   "execution_count": 6,
   "id": "separated-cabinet",
   "metadata": {},
   "outputs": [],
   "source": [
    "rcn1 = RCN_binomial(r, period_length, initial_price, delta, U, D,\n",
    "                    payment_dates, coupon_rate, exercise_price, Simple=True, Callable=False, barrier_level=None)"
   ]
  },
  {
   "cell_type": "code",
   "execution_count": 10,
   "id": "appropriate-flesh",
   "metadata": {
    "scrolled": true
   },
   "outputs": [
    {
     "data": {
      "text/plain": [
       "1.0124083511877382"
      ]
     },
     "execution_count": 10,
     "metadata": {},
     "output_type": "execute_result"
    }
   ],
   "source": [
    "rcn1.price_RCN()"
   ]
  },
  {
   "cell_type": "markdown",
   "id": "streaming-textbook",
   "metadata": {},
   "source": [
    "#### ii)"
   ]
  },
  {
   "cell_type": "code",
   "execution_count": 12,
   "id": "universal-martin",
   "metadata": {},
   "outputs": [],
   "source": [
    "barrier_level = 0.8\n",
    "rcn2 = RCN_binomial(r, period_length, initial_price, delta, U, D,\n",
    "                    payment_dates, coupon_rate, exercise_price, Simple=False, Callable=False, barrier_level=barrier_level)"
   ]
  },
  {
   "cell_type": "code",
   "execution_count": 16,
   "id": "young-connecticut",
   "metadata": {},
   "outputs": [
    {
     "data": {
      "text/plain": [
       "1.0544990135271406"
      ]
     },
     "execution_count": 16,
     "metadata": {},
     "output_type": "execute_result"
    }
   ],
   "source": [
    "rcn2.set_barrier()\n",
    "rcn2.price_RCN()"
   ]
  },
  {
   "cell_type": "markdown",
   "id": "inappropriate-whole",
   "metadata": {},
   "source": [
    "### 2)"
   ]
  },
  {
   "cell_type": "code",
   "execution_count": 41,
   "id": "operating-asthma",
   "metadata": {},
   "outputs": [],
   "source": [
    "par_rate1 = 0\n",
    "rcn1_par = RCN_binomial(r, period_length, initial_price, delta, U, D,\n",
    "                       payment_dates, par_rate1, exercise_price, Simple=True, Callable=False, barrier_level=None)\n",
    "while np.abs(rcn1_par.price_RCN() - 1) > .001:\n",
    "    par_rate1 += .001\n",
    "    rcn1_par = RCN_binomial(r, period_length, initial_price, delta, U, D,\n",
    "                           payment_dates, par_rate1, exercise_price, Simple=True, Callable=False, barrier_level=None)"
   ]
  },
  {
   "cell_type": "code",
   "execution_count": 52,
   "id": "alpine-affair",
   "metadata": {},
   "outputs": [
    {
     "data": {
      "text/plain": [
       "0.08700000000000006"
      ]
     },
     "execution_count": 52,
     "metadata": {},
     "output_type": "execute_result"
    }
   ],
   "source": [
    "par_rate1"
   ]
  },
  {
   "cell_type": "code",
   "execution_count": 49,
   "id": "premier-found",
   "metadata": {},
   "outputs": [
    {
     "data": {
      "text/plain": [
       "1.0"
      ]
     },
     "execution_count": 49,
     "metadata": {},
     "output_type": "execute_result"
    }
   ],
   "source": [
    "round(rcn1_par.price_RCN(),2)"
   ]
  },
  {
   "cell_type": "code",
   "execution_count": 43,
   "id": "demonstrated-relief",
   "metadata": {},
   "outputs": [],
   "source": [
    "par_rate2 = 0\n",
    "rcn2_par = RCN_binomial(r, period_length, initial_price, delta, U, D,\n",
    "                       payment_dates, par_rate2, exercise_price, Simple=False, Callable=False, barrier_level=barrier_level)\n",
    "rcn2_par.set_barrier()\n",
    "while np.abs(rcn2_par.price_RCN() - 1) > .001:\n",
    "    par_rate2 += .001\n",
    "    rcn2_par = RCN_binomial(r, period_length, initial_price, delta, U, D,\n",
    "                       payment_dates, par_rate2, exercise_price, Simple=False, Callable=False, barrier_level=barrier_level)\n",
    "    rcn2_par.set_barrier()"
   ]
  },
  {
   "cell_type": "code",
   "execution_count": 53,
   "id": "racial-sheriff",
   "metadata": {},
   "outputs": [
    {
     "data": {
      "text/plain": [
       "0.04500000000000003"
      ]
     },
     "execution_count": 53,
     "metadata": {},
     "output_type": "execute_result"
    }
   ],
   "source": [
    "par_rate2"
   ]
  },
  {
   "cell_type": "code",
   "execution_count": 51,
   "id": "scenic-thomson",
   "metadata": {},
   "outputs": [
    {
     "data": {
      "text/plain": [
       "1.0"
      ]
     },
     "execution_count": 51,
     "metadata": {},
     "output_type": "execute_result"
    }
   ],
   "source": [
    "round(rc2_par.price_RCN(),2)"
   ]
  },
  {
   "cell_type": "code",
   "execution_count": 62,
   "id": "corrected-forwarding",
   "metadata": {},
   "outputs": [],
   "source": [
    "barrier_levels = np.arange(.4,1.2,.2)\n",
    "strikes = np.linspace(.5,1.5)"
   ]
  },
  {
   "cell_type": "code",
   "execution_count": 64,
   "id": "actual-malta",
   "metadata": {},
   "outputs": [],
   "source": [
    "par_simple = []\n",
    "par_barrier = {}"
   ]
  },
  {
   "cell_type": "code",
   "execution_count": 87,
   "id": "senior-attendance",
   "metadata": {},
   "outputs": [],
   "source": [
    "for s in strikes:\n",
    "    par = -.10\n",
    "    simple = RCN_binomial(r, period_length, initial_price, delta, U, D,\n",
    "                          payment_dates, par, s, Simple=True, Callable=False, barrier_level=None)\n",
    "    while np.abs(simple.price_RCN() - 1) > .001:\n",
    "        par += .001\n",
    "        simple = RCN_binomial(r, period_length, initial_price, delta, U, D,\n",
    "                              payment_dates, par, s, Simple=True, Callable=False, barrier_level=None)\n",
    "    par_simple.append(par)"
   ]
  },
  {
   "cell_type": "code",
   "execution_count": 104,
   "id": "baking-strike",
   "metadata": {
    "scrolled": true
   },
   "outputs": [
    {
     "name": "stdout",
     "output_type": "stream",
     "text": [
      "0.4 0.5\n",
      "0.4 0.5204081632653061\n",
      "0.4 0.5408163265306123\n",
      "0.4 0.5612244897959183\n",
      "0.4 0.5816326530612245\n",
      "0.4 0.6020408163265306\n",
      "0.4 0.6224489795918368\n",
      "0.4 0.6428571428571428\n",
      "0.4 0.6632653061224489\n",
      "0.4 0.6836734693877551\n",
      "0.4 0.7040816326530612\n",
      "0.4 0.7244897959183674\n",
      "0.4 0.7448979591836735\n",
      "0.4 0.7653061224489796\n",
      "0.4 0.7857142857142857\n",
      "0.4 0.8061224489795917\n",
      "0.4 0.8265306122448979\n",
      "0.4 0.846938775510204\n",
      "0.4 0.8673469387755102\n",
      "0.4 0.8877551020408163\n",
      "0.4 0.9081632653061225\n",
      "0.4 0.9285714285714286\n",
      "0.4 0.9489795918367346\n",
      "0.4 0.9693877551020408\n",
      "0.4 0.9897959183673469\n",
      "0.4 1.010204081632653\n",
      "0.4 1.030612244897959\n",
      "0.4 1.0510204081632653\n",
      "0.4 1.0714285714285714\n",
      "0.4 1.0918367346938775\n",
      "0.4 1.1122448979591835\n",
      "0.4 1.1326530612244898\n",
      "0.4 1.1530612244897958\n",
      "0.4 1.1734693877551021\n",
      "0.4 1.193877551020408\n",
      "0.4 1.2142857142857142\n",
      "0.4 1.2346938775510203\n",
      "0.4 1.2551020408163265\n",
      "0.4 1.2755102040816326\n",
      "0.4 1.2959183673469385\n",
      "0.4 1.316326530612245\n",
      "0.4 1.3367346938775508\n",
      "0.4 1.3571428571428572\n",
      "0.4 1.3775510204081631\n",
      "0.4 1.3979591836734693\n",
      "0.4 1.4183673469387754\n",
      "0.4 1.4387755102040816\n",
      "0.4 1.4591836734693877\n",
      "0.4 1.4795918367346939\n",
      "0.4 1.5\n",
      "0.6000000000000001 0.5\n",
      "0.6000000000000001 0.5204081632653061\n",
      "0.6000000000000001 0.5408163265306123\n",
      "0.6000000000000001 0.5612244897959183\n",
      "0.6000000000000001 0.5816326530612245\n",
      "0.6000000000000001 0.6020408163265306\n",
      "0.6000000000000001 0.6224489795918368\n",
      "0.6000000000000001 0.6428571428571428\n",
      "0.6000000000000001 0.6632653061224489\n",
      "0.6000000000000001 0.6836734693877551\n",
      "0.6000000000000001 0.7040816326530612\n",
      "0.6000000000000001 0.7244897959183674\n",
      "0.6000000000000001 0.7448979591836735\n",
      "0.6000000000000001 0.7653061224489796\n",
      "0.6000000000000001 0.7857142857142857\n",
      "0.6000000000000001 0.8061224489795917\n",
      "0.6000000000000001 0.8265306122448979\n",
      "0.6000000000000001 0.846938775510204\n",
      "0.6000000000000001 0.8673469387755102\n",
      "0.6000000000000001 0.8877551020408163\n",
      "0.6000000000000001 0.9081632653061225\n",
      "0.6000000000000001 0.9285714285714286\n",
      "0.6000000000000001 0.9489795918367346\n",
      "0.6000000000000001 0.9693877551020408\n",
      "0.6000000000000001 0.9897959183673469\n",
      "0.6000000000000001 1.010204081632653\n",
      "0.6000000000000001 1.030612244897959\n",
      "0.6000000000000001 1.0510204081632653\n",
      "0.6000000000000001 1.0714285714285714\n",
      "0.6000000000000001 1.0918367346938775\n",
      "0.6000000000000001 1.1122448979591835\n",
      "0.6000000000000001 1.1326530612244898\n",
      "0.6000000000000001 1.1530612244897958\n",
      "0.6000000000000001 1.1734693877551021\n",
      "0.6000000000000001 1.193877551020408\n",
      "0.6000000000000001 1.2142857142857142\n",
      "0.6000000000000001 1.2346938775510203\n",
      "0.6000000000000001 1.2551020408163265\n",
      "0.6000000000000001 1.2755102040816326\n",
      "0.6000000000000001 1.2959183673469385\n",
      "0.6000000000000001 1.316326530612245\n",
      "0.6000000000000001 1.3367346938775508\n",
      "0.6000000000000001 1.3571428571428572\n",
      "0.6000000000000001 1.3775510204081631\n",
      "0.6000000000000001 1.3979591836734693\n",
      "0.6000000000000001 1.4183673469387754\n",
      "0.6000000000000001 1.4387755102040816\n",
      "0.6000000000000001 1.4591836734693877\n",
      "0.6000000000000001 1.4795918367346939\n",
      "0.6000000000000001 1.5\n",
      "0.8000000000000002 0.5\n",
      "0.8000000000000002 0.5204081632653061\n",
      "0.8000000000000002 0.5408163265306123\n",
      "0.8000000000000002 0.5612244897959183\n",
      "0.8000000000000002 0.5816326530612245\n",
      "0.8000000000000002 0.6020408163265306\n",
      "0.8000000000000002 0.6224489795918368\n",
      "0.8000000000000002 0.6428571428571428\n",
      "0.8000000000000002 0.6632653061224489\n",
      "0.8000000000000002 0.6836734693877551\n",
      "0.8000000000000002 0.7040816326530612\n",
      "0.8000000000000002 0.7244897959183674\n",
      "0.8000000000000002 0.7448979591836735\n",
      "0.8000000000000002 0.7653061224489796\n",
      "0.8000000000000002 0.7857142857142857\n",
      "0.8000000000000002 0.8061224489795917\n",
      "0.8000000000000002 0.8265306122448979\n",
      "0.8000000000000002 0.846938775510204\n",
      "0.8000000000000002 0.8673469387755102\n",
      "0.8000000000000002 0.8877551020408163\n",
      "0.8000000000000002 0.9081632653061225\n",
      "0.8000000000000002 0.9285714285714286\n",
      "0.8000000000000002 0.9489795918367346\n",
      "0.8000000000000002 0.9693877551020408\n",
      "0.8000000000000002 0.9897959183673469\n",
      "0.8000000000000002 1.010204081632653\n",
      "0.8000000000000002 1.030612244897959\n",
      "0.8000000000000002 1.0510204081632653\n",
      "0.8000000000000002 1.0714285714285714\n",
      "0.8000000000000002 1.0918367346938775\n",
      "0.8000000000000002 1.1122448979591835\n",
      "0.8000000000000002 1.1326530612244898\n",
      "0.8000000000000002 1.1530612244897958\n",
      "0.8000000000000002 1.1734693877551021\n",
      "0.8000000000000002 1.193877551020408\n",
      "0.8000000000000002 1.2142857142857142\n",
      "0.8000000000000002 1.2346938775510203\n",
      "0.8000000000000002 1.2551020408163265\n",
      "0.8000000000000002 1.2755102040816326\n",
      "0.8000000000000002 1.2959183673469385\n",
      "0.8000000000000002 1.316326530612245\n",
      "0.8000000000000002 1.3367346938775508\n",
      "0.8000000000000002 1.3571428571428572\n",
      "0.8000000000000002 1.3775510204081631\n",
      "0.8000000000000002 1.3979591836734693\n",
      "0.8000000000000002 1.4183673469387754\n",
      "0.8000000000000002 1.4387755102040816\n",
      "0.8000000000000002 1.4591836734693877\n",
      "0.8000000000000002 1.4795918367346939\n",
      "0.8000000000000002 1.5\n",
      "1.0000000000000002 0.5\n",
      "1.0000000000000002 0.5204081632653061\n",
      "1.0000000000000002 0.5408163265306123\n",
      "1.0000000000000002 0.5612244897959183\n",
      "1.0000000000000002 0.5816326530612245\n",
      "1.0000000000000002 0.6020408163265306\n",
      "1.0000000000000002 0.6224489795918368\n",
      "1.0000000000000002 0.6428571428571428\n",
      "1.0000000000000002 0.6632653061224489\n",
      "1.0000000000000002 0.6836734693877551\n",
      "1.0000000000000002 0.7040816326530612\n",
      "1.0000000000000002 0.7244897959183674\n",
      "1.0000000000000002 0.7448979591836735\n",
      "1.0000000000000002 0.7653061224489796\n",
      "1.0000000000000002 0.7857142857142857\n",
      "1.0000000000000002 0.8061224489795917\n",
      "1.0000000000000002 0.8265306122448979\n",
      "1.0000000000000002 0.846938775510204\n",
      "1.0000000000000002 0.8673469387755102\n",
      "1.0000000000000002 0.8877551020408163\n",
      "1.0000000000000002 0.9081632653061225\n",
      "1.0000000000000002 0.9285714285714286\n",
      "1.0000000000000002 0.9489795918367346\n",
      "1.0000000000000002 0.9693877551020408\n",
      "1.0000000000000002 0.9897959183673469\n",
      "1.0000000000000002 1.010204081632653\n",
      "1.0000000000000002 1.030612244897959\n",
      "1.0000000000000002 1.0510204081632653\n",
      "1.0000000000000002 1.0714285714285714\n",
      "1.0000000000000002 1.0918367346938775\n",
      "1.0000000000000002 1.1122448979591835\n",
      "1.0000000000000002 1.1326530612244898\n",
      "1.0000000000000002 1.1530612244897958\n",
      "1.0000000000000002 1.1734693877551021\n",
      "1.0000000000000002 1.193877551020408\n",
      "1.0000000000000002 1.2142857142857142\n",
      "1.0000000000000002 1.2346938775510203\n",
      "1.0000000000000002 1.2551020408163265\n",
      "1.0000000000000002 1.2755102040816326\n",
      "1.0000000000000002 1.2959183673469385\n",
      "1.0000000000000002 1.316326530612245\n",
      "1.0000000000000002 1.3367346938775508\n",
      "1.0000000000000002 1.3571428571428572\n",
      "1.0000000000000002 1.3775510204081631\n",
      "1.0000000000000002 1.3979591836734693\n",
      "1.0000000000000002 1.4183673469387754\n",
      "1.0000000000000002 1.4387755102040816\n",
      "1.0000000000000002 1.4591836734693877\n",
      "1.0000000000000002 1.4795918367346939\n",
      "1.0000000000000002 1.5\n"
     ]
    }
   ],
   "source": [
    "for b in barrier_levels:\n",
    "    for s in strikes:\n",
    "        print(b,s)\n",
    "        par = -.10\n",
    "        barrier = RCN_binomial(r, period_length, initial_price, delta, U, D,\n",
    "                  payment_dates, par, s, Simple=False, Callable=False, barrier_level=b)\n",
    "        barrier.set_barrier()\n",
    "        while np.abs(barrier.price_RCN() - 1) > .001:\n",
    "            par += .001\n",
    "            barrier = RCN_binomial(r, period_length, initial_price, delta, U, D,\n",
    "                      payment_dates, par, s, Simple=False, Callable=False, barrier_level=b)\n",
    "            barrier.set_barrier()\n",
    "        if s == strikes[0]:\n",
    "            par_barrier[b] = [par]\n",
    "        else:\n",
    "            par_barrier[b].append(par)"
   ]
  },
  {
   "cell_type": "code",
   "execution_count": 115,
   "id": "strange-dress",
   "metadata": {
    "scrolled": true
   },
   "outputs": [
    {
     "data": {
      "image/png": "[encoded data removed]",
      "text/plain": [
       "<Figure size 432x288 with 1 Axes>"
      ]
     },
     "metadata": {
      "needs_background": "light"
     },
     "output_type": "display_data"
    }
   ],
   "source": [
    "for i in range(len(par_barrier)):\n",
    "    plt.plot(par_barrier[barrier_levels[i]])"
   ]
  },
  {
   "cell_type": "code",
   "execution_count": 116,
   "id": "bright-pennsylvania",
   "metadata": {},
   "outputs": [
    {
     "data": {
      "text/plain": [
       "[<matplotlib.lines.Line2D at 0x1caa52b77f0>]"
      ]
     },
     "execution_count": 116,
     "metadata": {},
     "output_type": "execute_result"
    },
    {
     "data": {
      "image/png": "[encoded data removed]",
      "text/plain": [
       "<Figure size 432x288 with 1 Axes>"
      ]
     },
     "metadata": {
      "needs_background": "light"
     },
     "output_type": "display_data"
    }
   ],
   "source": [
    "plt.plot(par_simple)"
   ]
  }
 ],
 "metadata": {
  "kernelspec": {
   "display_name": "Python 3",
   "language": "python",
   "name": "python3"
  },
  "language_info": {
   "codemirror_mode": {
    "name": "ipython",
    "version": 3
   },
   "file_extension": ".py",
   "mimetype": "text/x-python",
   "name": "python",
   "nbconvert_exporter": "python",
   "pygments_lexer": "ipython3",
   "version": "3.8.8"
  }
 },
 "nbformat": 4,
 "nbformat_minor": 5
}
