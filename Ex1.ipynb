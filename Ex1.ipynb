{
 "cells": [
  {
   "cell_type": "code",
   "execution_count": 2,
   "id": "cubic-baghdad",
   "metadata": {},
   "outputs": [],
   "source": [
    "import numpy as np\n",
    "import matplotlib.pyplot as plt"
   ]
  },
  {
   "cell_type": "code",
   "execution_count": 6,
   "id": "attractive-master",
   "metadata": {},
   "outputs": [],
   "source": [
    "x = np.loadtxt('Data-Project1-Fin404.txt',skiprows=1)"
   ]
  },
  {
   "cell_type": "code",
   "execution_count": 9,
   "id": "hundred-dressing",
   "metadata": {
    "scrolled": true
   },
   "outputs": [
    {
     "data": {
      "text/plain": [
       "12000.0"
      ]
     },
     "execution_count": 9,
     "metadata": {},
     "output_type": "execute_result"
    }
   ],
   "source": [
    "x[0,0]"
   ]
  },
  {
   "cell_type": "code",
   "execution_count": 2,
   "id": "sublime-albany",
   "metadata": {},
   "outputs": [],
   "source": [
    "def RCN_terminal(alpha, i_0, i_T):\n",
    "    strike = alpha*i_0\n",
    "    if i_T > strike:\n",
    "        return 1\n",
    "    else:\n",
    "        return 1 - alpha + i_T/i_0"
   ]
  },
  {
   "cell_type": "code",
   "execution_count": 8,
   "id": "critical-lemon",
   "metadata": {},
   "outputs": [],
   "source": [
    "alpha = 1\n",
    "i_0 = 10\n",
    "i_T = np.arange(0,20,.01)\n",
    "RCN_terminal_vec = np.vectorize(RCN_terminal)\n",
    "H_T = RCN_terminal_vec(alpha, i_0, i_T)"
   ]
  },
  {
   "cell_type": "code",
   "execution_count": 20,
   "id": "bigger-drink",
   "metadata": {},
   "outputs": [
    {
     "data": {
      "image/png": "[encoded data removed]",
      "text/plain": [
       "<Figure size 432x288 with 1 Axes>"
      ]
     },
     "metadata": {
      "needs_background": "light"
     },
     "output_type": "display_data"
    }
   ],
   "source": [
    "plt.plot(i_T, H_T)\n",
    "plt.xlabel(\"$I_T$\", fontsize=12)\n",
    "plt.ylabel(\"$H(I_T)$\", fontsize=12);\n",
    "plt.savefig('RCN_terminal')"
   ]
  }
 ],
 "metadata": {
  "kernelspec": {
   "display_name": "Python 3",
   "language": "python",
   "name": "python3"
  },
  "language_info": {
   "codemirror_mode": {
    "name": "ipython",
    "version": 3
   },
   "file_extension": ".py",
   "mimetype": "text/x-python",
   "name": "python",
   "nbconvert_exporter": "python",
   "pygments_lexer": "ipython3",
   "version": "3.8.8"
  }
 },
 "nbformat": 4,
 "nbformat_minor": 5
}
